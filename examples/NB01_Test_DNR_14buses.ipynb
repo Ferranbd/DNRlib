{
 "cells": [
  {
   "cell_type": "code",
   "execution_count": 1,
   "metadata": {},
   "outputs": [],
   "source": [
    "\n",
    "# Import necessary libraries for data manipulation, plotting, and network analysis\n",
    "import warnings\n",
    "warnings.filterwarnings(\"ignore\")\n",
    "\n",
    "import pandapower as pp\n",
    "import simbench as sb\n",
    "import pandapower.networks as nw\n",
    "\n",
    "import GridCalEngine.api as gce  # For interfacing with the GridCal API\n",
    "from GridCalEngine.IO.file_handler import FileOpen, FileSave\n",
    "\n",
    "\n",
    "import sys\n",
    "import os\n",
    "sys.path.append(os.path.abspath(os.path.join('..', 'src')))\n",
    "import GC_utils\n",
    "import GC_PandaPowerImporter\n",
    "from GC_DistributionNetworkReconfiguration import DistributionNetworkReconfiguration\n",
    "\n",
    "\n",
    "import logging  # For logging messages\n",
    "logging.basicConfig(\n",
    "    level=logging.ERROR,  # Set the log level to DEBUG\n",
    "    format='%(asctime)s - %(name)s - %(levelname)s - %(message)s',  # Set the log format\n",
    "    datefmt='%Y-%m-%d %H:%M:%S'  # Set the date format\n",
    ")"
   ]
  },
  {
   "cell_type": "code",
   "execution_count": 2,
   "metadata": {},
   "outputs": [],
   "source": [
    "#This function call DNR library, executes the selected DNR method and prints the results, to easy the comparison\n",
    "\n",
    "def executeTest(dnr, method, TieLinesID=[], randomMST=False, one=False, current_power=True, algorithm=\"prim\", NumCandidates=10, fitness_ratio=1, loss_factor=0.02, MutationProbability=0.4, PopulationSize=16, Niter=20, ElitePopulation=2):\n",
    "    if method == None:\n",
    "        _, losses = GC_utils.GC_PowerFlow(dnr.grid, config=TieLinesID)\n",
    "        radiality = GC_utils.CheckRadialConnectedNetwork(dnr.grid)\n",
    "        print(\"losses:\", losses)\n",
    "        print(\"radiality:\", radiality)\n",
    "        print(\"Loops:\")\n",
    "        for loop in GC_utils.SearchLoopsLines(dnr.grid):\n",
    "            print(GC_utils.GC_Line_idtag2name_array(dnr.grid,loop))\n",
    "    else:      \n",
    "#       try:\n",
    "        dnr.NumPF=0\n",
    "        DisabledLinesID = dnr.Solve(method=method, TieLines=TieLinesID, randomMST=randomMST, one=one, current_power=current_power, algorithm=algorithm, NumCandidates=NumCandidates, fitness_ratio=fitness_ratio, loss_factor=loss_factor, MutationProbability=MutationProbability, PopulationSize=PopulationSize, Niter=Niter, ElitePopulation=ElitePopulation)\n",
    "\n",
    "        _, losses = GC_utils.GC_PowerFlow(dnr.grid, config=DisabledLinesID)\n",
    "        radiality = GC_utils.CheckRadialConnectedNetwork(dnr.grid)\n",
    "        print(\"DNR solution by \", method, \":\", GC_utils.GC_Line_idtag2name_array(dnr.grid, DisabledLinesID))\n",
    "        print(\"Number of executed Power Flows:\", dnr.NumPF)\n",
    "        print(\"losses:\", losses)\n",
    "        print(\"radiality:\", radiality)\n",
    "        print(\"Loops:\")\n",
    "        for loop in GC_utils.SearchLoopsLines(dnr.grid):\n",
    "            print(GC_utils.GC_Line_idtag2name_array(dnr.grid,loop))\n",
    "#        except:\n",
    "#            print(method, \" method failed\")        \n"
   ]
  },
  {
   "cell_type": "code",
   "execution_count": 3,
   "metadata": {},
   "outputs": [
    {
     "name": "stdout",
     "output_type": "stream",
     "text": [
      "Algorithms to find the optimal distribution network configuration\n"
     ]
    }
   ],
   "source": [
    "print('Algorithms to find the optimal distribution network configuration')\n"
   ]
  },
  {
   "cell_type": "code",
   "execution_count": 4,
   "metadata": {},
   "outputs": [],
   "source": [
    "gridGC = FileOpen(\"D:\\\\15_Thesis-code\\\\02_DistributionNetworkOperationFramework\\\\03_NetworkExamples\\\\gridcal\\\\case14.m\").open()\n",
    "TieLinesName=['6_12_1', '13_14_1', '2_4_1','4_5_1','4_7_1','2_3_1','1_2_1']\n",
    "TieLinesID = GC_utils.GC_Line_Name2idtag_array(gridGC, TieLinesName)\n",
    "dnr = DistributionNetworkReconfiguration(gridGC, verbose_logging=logging.ERROR)"
   ]
  },
  {
   "cell_type": "markdown",
   "metadata": {},
   "source": [
    "<img src=\"14buses.png\" width=\"300\" height=\"300\">\n"
   ]
  },
  {
   "cell_type": "code",
   "execution_count": 5,
   "metadata": {},
   "outputs": [
    {
     "name": "stdout",
     "output_type": "stream",
     "text": [
      "The 14 buses cases is loaded and with all lines connected it has 7 loops\n",
      "The 14 buses cases is loaded and with tie lines disconnected it has 0 loops\n"
     ]
    }
   ],
   "source": [
    "GC_utils.NetworkReconfiguration(gridGC, all=True, value_all=True)\n",
    "print(f\"The 14 buses cases is loaded and with all lines connected it has {len(GC_utils.SearchLoopsLines(gridGC))} loops\")\n",
    "GC_utils.NetworkReconfiguration(gridGC, all=True, selected_configuration=TieLinesID, value_all=True, value_configuration=False)\n",
    "print(f\"The 14 buses cases is loaded and with tie lines disconnected it has {len(GC_utils.SearchLoopsLines(gridGC))} loops\")"
   ]
  },
  {
   "cell_type": "code",
   "execution_count": 6,
   "metadata": {},
   "outputs": [
    {
     "name": "stdout",
     "output_type": "stream",
     "text": [
      "losses: 115.22919336533134\n",
      "radiality: (True, True, True)\n",
      "Loops:\n"
     ]
    }
   ],
   "source": [
    "## executes the power flow and radiality check for the original network with all lines active\n",
    "executeTest(dnr, None, None)  "
   ]
  },
  {
   "cell_type": "code",
   "execution_count": 7,
   "metadata": {},
   "outputs": [
    {
     "name": "stdout",
     "output_type": "stream",
     "text": [
      "1.09\n",
      "0.8150326689473189\n"
     ]
    }
   ],
   "source": [
    "res, losses = GC_utils.GC_PowerFlow(dnr.grid)\n",
    "print(res.results.get_bus_df().Vm.max())\n",
    "print(res.results.get_bus_df().Vm.min())"
   ]
  },
  {
   "cell_type": "code",
   "execution_count": 8,
   "metadata": {},
   "outputs": [
    {
     "name": "stdout",
     "output_type": "stream",
     "text": [
      "losses: 115.22919336533134\n",
      "radiality: (True, True, True)\n",
      "Loops:\n"
     ]
    }
   ],
   "source": [
    "## executes the power flow and radiality check for the original network with a random set of lines deactivated to achieve a radial network\n",
    "executeTest(dnr, None, TieLinesID)  "
   ]
  },
  {
   "cell_type": "code",
   "execution_count": 9,
   "metadata": {},
   "outputs": [
    {
     "name": "stdout",
     "output_type": "stream",
     "text": [
      "losses: 28.9164418707725\n",
      "radiality: (True, True, True)\n",
      "Loops:\n"
     ]
    }
   ],
   "source": [
    "## executes the power flow and radiality check for the original network with an improved set of lines deactivated to achieve a radial network\n",
    "BetterTieLinesName = ['2_5_1', '3_4_1', '4_5_1', '4_7_1', '4_9_1', '10_11_1', '12_13_1']\n",
    "BetterTieLinesID = GC_utils.GC_Line_Name2idtag_array(gridGC, BetterTieLinesName)\n",
    "executeTest(dnr, None, BetterTieLinesID)  "
   ]
  },
  {
   "cell_type": "code",
   "execution_count": 10,
   "metadata": {},
   "outputs": [
    {
     "name": "stdout",
     "output_type": "stream",
     "text": [
      "1.0900007814035269\n",
      "0.9583563381962484\n"
     ]
    }
   ],
   "source": [
    "res, losses = GC_utils.GC_PowerFlow(dnr.grid)\n",
    "print(res.results.get_bus_df().Vm.max())\n",
    "print(res.results.get_bus_df().Vm.min())"
   ]
  },
  {
   "cell_type": "code",
   "execution_count": 11,
   "metadata": {},
   "outputs": [
    {
     "name": "stdout",
     "output_type": "stream",
     "text": [
      "DNR solution by  Merlin : ['2_5_1', '3_4_1', '4_5_1', '4_9_1', '9_14_1', '10_11_1', '12_13_1']\n",
      "Number of executed Power Flows: 12\n",
      "losses: 16.939941228665308\n",
      "radiality: (True, True, True)\n",
      "Loops:\n"
     ]
    }
   ],
   "source": [
    "#Executes the DNR algorithm by using the Merlin method to find the optimal configuration of the distribution network\n",
    "executeTest(dnr, 'Merlin', TieLinesID)"
   ]
  },
  {
   "cell_type": "code",
   "execution_count": 12,
   "metadata": {},
   "outputs": [
    {
     "name": "stdout",
     "output_type": "stream",
     "text": [
      "DNR solution by  Baran : ['6_13_1', '9_14_1', '2_5_1', '4_9_1', '7_9_1', '2_3_1', '1_2_1']\n",
      "Number of executed Power Flows: 19\n",
      "losses: 60.26201684950429\n",
      "radiality: (True, True, True)\n",
      "Loops:\n"
     ]
    }
   ],
   "source": [
    "#Executes the DNR algorithm by using the Baran method to find the optimal configuration of the distribution network\n",
    "executeTest(dnr, 'Baran', TieLinesID)"
   ]
  },
  {
   "cell_type": "code",
   "execution_count": 13,
   "metadata": {},
   "outputs": [
    {
     "name": "stdout",
     "output_type": "stream",
     "text": [
      "DNR solution by  Salkuti : ['12_13_1', '9_14_1', '4_9_1', '2_5_1', '4_5_1', '3_4_1', '2_4_1']\n",
      "Number of executed Power Flows: 19\n",
      "losses: 45.602350710758216\n",
      "radiality: (True, True, True)\n",
      "Loops:\n"
     ]
    }
   ],
   "source": [
    "#Executes the DNR algorithm by using the Salkuti method to find the optimal configuration of the distribution network\n",
    "executeTest(dnr, 'Salkuti', TieLinesID)"
   ]
  },
  {
   "cell_type": "code",
   "execution_count": 14,
   "metadata": {},
   "outputs": [
    {
     "name": "stdout",
     "output_type": "stream",
     "text": [
      "DNR solution by  MSTgreedy : ['2_5_1', '3_4_1', '4_5_1', '4_7_1', '4_9_1', '10_11_1', '12_13_1']\n",
      "Number of executed Power Flows: 1\n",
      "losses: 28.9164418707725\n",
      "radiality: (True, True, True)\n",
      "Loops:\n"
     ]
    }
   ],
   "source": [
    "#Executes the DNR algorithm by using the MSTgreedy method to find the optimal configuration of the distribution network\n",
    "executeTest(dnr=dnr, method='MSTgreedy', TieLinesID=TieLinesID, randomMST=False, one=False, current_power=True, algorithm=\"prim\")"
   ]
  },
  {
   "cell_type": "code",
   "execution_count": 15,
   "metadata": {},
   "outputs": [
    {
     "name": "stdout",
     "output_type": "stream",
     "text": [
      "DNR solution by  Khalil : ['6_13_1', '6_11_1', '2_5_1', '4_9_1', '7_9_1', '3_4_1', '1_5_1']\n",
      "Number of executed Power Flows: 240\n",
      "losses: 35.09595245426215\n",
      "radiality: (True, True, True)\n",
      "Loops:\n"
     ]
    }
   ],
   "source": [
    "#Executes the DNR algorithm by using the Khalil method to find the optimal configuration of the distribution network\n",
    "executeTest(dnr=dnr, method='Khalil', NumCandidates=10, fitness_ratio=1, loss_factor=0.02)"
   ]
  },
  {
   "cell_type": "code",
   "execution_count": 16,
   "metadata": {},
   "outputs": [
    {
     "name": "stdout",
     "output_type": "stream",
     "text": [
      "DNR solution by  Jakus : ['2_5_1', '3_4_1', '4_5_1', '4_9_1', '6_12_1', '7_9_1', '9_14_1']\n",
      "Number of executed Power Flows: 298\n",
      "losses: 19.077012547672588\n",
      "radiality: (True, True, True)\n",
      "Loops:\n"
     ]
    }
   ],
   "source": [
    "#Executes the DNR algorithm by using the Jakus method to find the optimal configuration of the distribution network\n",
    "executeTest(dnr=dnr, method='Jakus', MutationProbability=0.4, PopulationSize=16, Niter=20, ElitePopulation=2, TieLinesID=TieLinesID, fitness_ratio=1, loss_factor=0.02)"
   ]
  },
  {
   "cell_type": "code",
   "execution_count": 17,
   "metadata": {},
   "outputs": [
    {
     "name": "stdout",
     "output_type": "stream",
     "text": [
      "Taylor: The new optimal configuration losses:13.347859486581399, radiality:(False, True, False), numPF:0 \n"
     ]
    }
   ],
   "source": [
    "## implementation of Taylor Mathematical Programming method is not working properly and needs to be completely revised\n",
    "dnr.NumPF=0\n",
    "disabled_lines = dnr.Solve(method=\"Taylor\", algorithm=\"QP\", solver=\"ipopt\", bigM=10e6, Imax=10, vmin=0.8, vmax=1.2, TieLines=TieLinesID)\n",
    "_, loss = GC_utils.GC_PowerFlow(gridGC, config=disabled_lines)\n",
    "radiality = GC_utils.CheckRadialConnectedNetwork(gridGC)\n",
    "print(f\"Taylor: The new optimal configuration losses:{loss}, radiality:{radiality}, numPF:{dnr.NumPF} \") #is {GC_utils.GC_Line_idtag2name_array(gridGC, disabled_lines)}\" )\n",
    "#except:\n",
    "#    print(\"falla Taylor\")  "
   ]
  },
  {
   "cell_type": "code",
   "execution_count": 18,
   "metadata": {},
   "outputs": [
    {
     "name": "stdout",
     "output_type": "stream",
     "text": [
      "[['a4ab7adf9be8431da7cdd065bc0ae1ba', '9635a1b4e4a446fea378726babab1a58', '552753507c9343cebd87b1f79e1a6bb2'], ['725421c2dff74ee2b0f8e0059440536f', '9635a1b4e4a446fea378726babab1a58', 'a73fbea1f68046d8b36c04454479859b', 'b36325c1f9064c1a81978b9e48190f8e', '350a5fc58c4049cebd9a4f333e384fc1', '386d5a12b5354bb58d9fe75ee4c5dd77'], ['689e820cbb9349928c23ce6f3b27af64', '86e64234322d4b079dde044ed497928b', '0a1686dd013a4bed822dbc2052bb6587'], ['0a1686dd013a4bed822dbc2052bb6587', 'c62f7485d52d4b62b8574245451d9ac5', '843102153e00437aa10932da150751bf', '9635a1b4e4a446fea378726babab1a58', 'b36325c1f9064c1a81978b9e48190f8e', '386d5a12b5354bb58d9fe75ee4c5dd77'], ['3df826f5fb714ef39eba30f52bfe60a0', 'c62f7485d52d4b62b8574245451d9ac5', '774e00e5e1ca45c4bae7d9e3d98d3ecf'], ['793587c0e8ea4fcbb7919f1c459b7114', '689e820cbb9349928c23ce6f3b27af64', 'f68134d0e43d441ab3a81dd6f8af9660'], ['9a62d6aa1f83457098fb03535b19eca6', 'a82151c61f7841088e1569ed265e84f6', '86e64234322d4b079dde044ed497928b']]\n",
      "found 4351 possible networks\n",
      "Morton:  ['4_5_1', '4_7_1', '12_13_1', '2_5_1', '9_10_1', '9_14_1', '3_4_1'] 16.582424356249305 (True, True, True)\n"
     ]
    }
   ],
   "source": [
    "## this method takes 41 seconds to execute for the 14 buses case, finding 4351 possible networks to be evaluated\n",
    "## the optimal radial network has the following lines disabled : ['12_13_1', '3_4_1', '4_7_1', '2_5_1', '9_14_1', '4_5_1', '9_10_1']\n",
    "## obtaining losses of 16.58 MW\n",
    "try:\n",
    "    disabled_lines = dnr.Solve(method=\"Morton\", TieLines=TieLinesID)\n",
    "    _, loss = GC_utils.GC_PowerFlow(gridGC, config=disabled_lines)\n",
    "    radiality = GC_utils.CheckRadialConnectedNetwork(gridGC)\n",
    "    print(\"Morton: \", GC_utils.GC_Line_idtag2name_array(gridGC,disabled_lines), loss, radiality )   \n",
    "except:\n",
    "    print(\"falla Morton\")\n"
   ]
  }
 ],
 "metadata": {
  "kernelspec": {
   "display_name": "DNRlib",
   "language": "python",
   "name": "python3"
  },
  "language_info": {
   "codemirror_mode": {
    "name": "ipython",
    "version": 3
   },
   "file_extension": ".py",
   "mimetype": "text/x-python",
   "name": "python",
   "nbconvert_exporter": "python",
   "pygments_lexer": "ipython3",
   "version": "3.13.0"
  }
 },
 "nbformat": 4,
 "nbformat_minor": 2
}
