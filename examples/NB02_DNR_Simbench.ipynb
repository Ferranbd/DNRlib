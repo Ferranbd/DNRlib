{
 "cells": [
  {
   "cell_type": "code",
   "execution_count": 1,
   "id": "185a5014402d1c6d",
   "metadata": {
    "ExecuteTime": {
     "end_time": "2024-12-23T13:42:07.790624Z",
     "start_time": "2024-12-23T13:42:06.748624Z"
    }
   },
   "outputs": [],
   "source": [
    "import networkx as nx\n",
    "import pandas as pd\n",
    "import logging\n",
    "import numpy as np\n",
    "import random\n",
    "import sys\n",
    "import math\n",
    "import os\n",
    "from datetime import date\n",
    "import matplotlib.pyplot as plt\n",
    "import pandapower as pp\n",
    "import seaborn as sns\n",
    "#import pandapower.topology as top\n",
    "#import pandapower.plotting as plot\n",
    "import simbench as sb\n",
    "import GridCalEngine.api as gce  # For interfacing with the GridCal API\n",
    "from GridCalEngine.IO.file_handler import FileOpen, FileSave\n",
    "\n",
    "sys.path.append(os.path.abspath(os.path.join('..', 'src')))\n",
    "import GC_utils\n",
    "import GC_PandaPowerImporter\n",
    "from GC_DistributionNetworkReconfiguration import DistributionNetworkReconfiguration\n",
    "\n",
    "import logging  \n",
    "import warnings\n",
    "warnings.filterwarnings(\"ignore\")"
   ]
  },
  {
   "cell_type": "code",
   "execution_count": 2,
   "id": "7826affa",
   "metadata": {},
   "outputs": [],
   "source": [
    "#Create a single plot with lines and two y-axes\n",
    "def CreatePlot2Lines(data, varx=None, var1 = None, var2 = None, title=None, axs=None, a=0, b=0):\n",
    "    # Create figure and primary axis\n",
    "    sns.set_theme(style=\"whitegrid\", palette=\"pastel\")\n",
    "    \n",
    "    if varx is None:\n",
    "        data_varx = data.index\n",
    "    else:\n",
    "        data_varx = data[varx]\n",
    "\n",
    "    if (axs is None):\n",
    "        fig, ax1 = plt.subplots(figsize=(4, 3))\n",
    "    else:\n",
    "       ax1 = axs[a,b]\n",
    "    # Bar plot (primary axis - left)\n",
    "    color = 'tab:blue'\n",
    "    ax1.set_xlabel(varx, fontsize=10)\n",
    "    ax1.set_ylabel(var1, fontsize=10, color=color)\n",
    "    line = ax1.plot(data_varx, data[var1], color=color, marker='o', \n",
    "                    linewidth=2, markersize=4, label='time (s)')\n",
    "    ax1.tick_params(axis='y', labelcolor=color)\n",
    "\n",
    "    # Create secondary axis (right)\n",
    "    ax2 = ax1.twinx()\n",
    "    color = 'tab:red'\n",
    "    ax2.set_ylabel(var2, fontsize=12, color=color)\n",
    "\n",
    "\n",
    "    line = ax2.plot(data_varx, data[var2], color=color, marker='o', \n",
    "                    linewidth=2, markersize=4, label='time (s)')\n",
    "    ax2.tick_params(axis='y', labelcolor=color)\n",
    "\n",
    "    # Add title and adjust layout\n",
    "    if title :\n",
    "        plt.title(title, fontsize=12, pad=20)\n",
    "\n",
    "    # Combine legends from both axes\n",
    "    #lines, labels = ax1.get_legend_handles_labels()\n",
    "    #lines2, labels2 = ax2.get_legend_handles_labels()\n",
    "    #ax1.legend(lines + lines2, labels + labels2, loc='upper left')\n",
    "\n",
    "    # Add grid for primary axis\n",
    "    ax1.grid(axis='y', linestyle='--', alpha=0.7)"
   ]
  },
  {
   "cell_type": "code",
   "execution_count": 3,
   "id": "776348aa",
   "metadata": {},
   "outputs": [],
   "source": [
    "# define a function to apply absolute values\n",
    "def apply_absolute_values(gridPP, absolute_values_dict, case_or_time_step):\n",
    "    for elm_param in absolute_values_dict.keys():\n",
    "        if absolute_values_dict[elm_param].shape[1]:\n",
    "            elm = elm_param[0]\n",
    "            param = elm_param[1]\n",
    "            gridPP[elm].loc[:, param] = absolute_values_dict[elm_param].loc[case_or_time_step]"
   ]
  },
  {
   "cell_type": "code",
   "execution_count": 4,
   "id": "943d9fd5",
   "metadata": {},
   "outputs": [
    {
     "name": "stdout",
     "output_type": "stream",
     "text": [
      "Algorithms to find the optimal distribution network configuration\n"
     ]
    }
   ],
   "source": [
    "print('Algorithms to find the optimal distribution network configuration')\n",
    "\n",
    "logging.basicConfig(\n",
    "    level=logging.ERROR,  # Set the log level to DEBUG\n",
    "    format='%(asctime)s - %(name)s - %(levelname)s - %(message)s',  # Set the log format\n",
    "    datefmt='%Y-%m-%d %H:%M:%S'  # Set the date format\n",
    ")"
   ]
  },
  {
   "cell_type": "code",
   "execution_count": 5,
   "id": "2a331940",
   "metadata": {},
   "outputs": [],
   "source": [
    "# Load the Simbench network, eliminate its switches, transformers and double lines\n",
    "# change the name of the external grid to \"grid_ext\"\n",
    "# and set all lines to in_service = True\n",
    "# export to GridCal\n",
    "\n",
    "sb_code1 = \"1-HVMV-urban-2.203-0-no_sw\"\n",
    "gridPP = sb.get_simbench_net(sb_code1)\n",
    "gridPP.switch.drop([232,234,236,238,240, 242,244,246], inplace=True)\n",
    "gridPP.trafo.drop([1,3,4], inplace=True)\n",
    "gridPP.line.drop(set([123,226,139,140,151,161,166,170,173,178,180,186,187,188,208,223,225,123,226,227,232,228,229,230,231,227,232,233]), inplace=True)\n",
    "gridPP.ext_grid.at[0,'name']=\"grid_ext\"\n",
    "gridPP.line['in_service'] = True\n",
    "pp.runpp(gridPP)\n",
    "gridGC = GC_PandaPowerImporter.PP2GC(gridPP)\n",
    "TieLinesName=['1_2_1', '1_24_1', '1_36_1', '1_47_1', '51_52_1', '1_60_1', '1_74_1', '1_85_1', '117_181_1', '171_117_1', '117_125_1', '127_164_1', '121_188_1', '146_147_1', '171_181_1', '116_196_1', '116_154_1']\n",
    "TieLinesName=['196_165_1', '121_188_1', '127_164_1', '146_147_1', '147_179_1', '147_151_1', '171_181_1', '171_152_1', '116_154_1', '108_109_1', '1_24_1', '1_36_1', '1_85_1', '9_10_1', '51_52_1', '112_113_1', '71_72_1']\n",
    "TieLinesID=GC_utils.GC_Line_Name2idtag_array(gridGC, TieLinesName)\n"
   ]
  },
  {
   "cell_type": "code",
   "execution_count": 6,
   "id": "97f96846",
   "metadata": {},
   "outputs": [
    {
     "data": {
      "text/plain": [
       "(<GridCalEngine.Simulations.PowerFlow.power_flow_driver.PowerFlowDriver at 0x2338143cec0>,\n",
       " np.float64(10.210427627793447))"
      ]
     },
     "execution_count": 6,
     "metadata": {},
     "output_type": "execute_result"
    }
   ],
   "source": [
    "# PowerFlow execution for validation\n",
    "TieLinesID=GC_utils.GC_Line_Name2idtag_array(gridGC, TieLinesName)\n",
    "GC_utils.GC_PowerFlow(gridGC,TieLinesID)"
   ]
  },
  {
   "cell_type": "code",
   "execution_count": 7,
   "id": "ec546893",
   "metadata": {},
   "outputs": [
    {
     "name": "stdout",
     "output_type": "stream",
     "text": [
      "Merlin:  34.659786237875075 (True, True, True) ['18_19_1', '58_59_1', '60_61_1', '97_98_1', '97_99_1', '113_114_1', '110_11_1', '93_44_1', '171_117_1', '117_191_1', '121_140_1', '137_176_1', '146_147_1', '171_181_1', '196_181_1', '183_189_1', '116_196_1']\n",
      "Baran:  5.712923837244974 (True, True, True) ['193_117_1', '140_188_1', '127_164_1', '146_183_1', '119_168_1', '147_151_1', '171_181_1', '116_184_1', '143_154_1', '18_19_1', '21_22_1', '93_94_1', '92_93_1', '7_8_1', '54_55_1', '110_111_1', '68_69_1']\n",
      "Salkuti:  9.60628143997109 (True, True, True) ['196_181_1', '140_188_1', '164_192_1', '147_183_1', '162_179_1', '150_151_1', '171_117_1', '152_184_1', '116_196_1', '109_110_1', '24_25_1', '36_37_1', '85_86_1', '10_11_1', '52_53_1', '111_112_1', '70_71_1']\n",
      "MSTgreedy:  5.649001656117658 (True, True, True) ['17_18_1', '31_32_1', '58_59_1', '1_68_1', '83_84_1', '109_110_1', '111_112_1', '93_44_1', '147_151_1', '174_186_1', '127_164_1', '171_181_1', '196_181_1', '146_183_1', '116_184_1', '143_154_1', '140_188_1']\n",
      "Khalil:  5.976567723642474 (True, True, True) ['196_165_1', '121_140_1', '127_164_1', '146_183_1', '182_186_1', '147_151_1', '171_181_1', '116_196_1', '116_154_1', '18_19_1', '22_23_1', '95_96_1', '91_92_1', '9_10_1', '51_52_1', '112_113_1', '71_72_1']\n",
      "Jakus:  6.044849053136649 (True, True, True) ['18_19_1', '57_58_1', '70_71_1', '82_83_1', '92_93_1', '94_95_1', '109_110_1', '110_111_1', '140_169_1', '147_151_1', '176_187_1', '171_181_1', '196_181_1', '146_183_1', '116_196_1', '116_184_1', '140_188_1']\n",
      "Morton is not being tested for the Simbench network due to its size\n"
     ]
    }
   ],
   "source": [
    "dnr = DistributionNetworkReconfiguration(gridGC, verbose_logging=logging.ERROR)\n",
    "try:\n",
    "    disabled_lines = dnr.Solve(method=\"Merlin\", TieLines=TieLinesID)\n",
    "    _, loss = GC_utils.GC_PowerFlow(gridGC, config=disabled_lines)\n",
    "    radiality = GC_utils.CheckRadialConnectedNetwork(gridGC)\n",
    "    print(\"Merlin: \", loss, radiality, GC_utils.GC_Line_idtag2name_array(gridGC,disabled_lines))\n",
    "except:\n",
    "    print(\"falla Merlin\")        \n",
    "\n",
    "try:\n",
    "    disabled_lines = dnr.Solve(method=\"Baran\", TieLines=TieLinesID)\n",
    "    _, loss = GC_utils.GC_PowerFlow(gridGC, config=None)\n",
    "    radiality = GC_utils.CheckRadialConnectedNetwork(gridGC)\n",
    "    print(\"Baran: \", loss, radiality, GC_utils.GC_Line_idtag2name_array(gridGC,disabled_lines))\n",
    "except:\n",
    "    print(\"falla Baran\")        \n",
    "\n",
    "try:\n",
    "    disabled_lines = dnr.Solve(method=\"Salkuti\", TieLines=TieLinesID)\n",
    "    _, loss = GC_utils.GC_PowerFlow(gridGC, config=disabled_lines)\n",
    "    radiality = GC_utils.CheckRadialConnectedNetwork(gridGC)\n",
    "    print(\"Salkuti: \", loss, radiality, GC_utils.GC_Line_idtag2name_array(gridGC,disabled_lines))     \n",
    "except:\n",
    "    print(\"falla Salkuti\")        \n",
    "\n",
    "try:\n",
    "    disabled_lines = dnr.Solve(method=\"MSTgreedy\", randomMST=False, one=False, current_power=True, algorithm=\"prim\")\n",
    "    _, loss = GC_utils.GC_PowerFlow(gridGC, config=disabled_lines)\n",
    "    radiality = GC_utils.CheckRadialConnectedNetwork(gridGC)\n",
    "    print(\"MSTgreedy: \", loss, radiality, GC_utils.GC_Line_idtag2name_array(gridGC,disabled_lines))\n",
    "except:\n",
    "    print(\"falla MSTGreedy\")        \n",
    "    \n",
    "try:\n",
    "    disabled_lines = dnr.Solve(method=\"Khalil\", NumCandidates=10, fitness_ratio=0.3)\n",
    "    _, loss = GC_utils.GC_PowerFlow(gridGC, config=disabled_lines)\n",
    "    radiality = GC_utils.CheckRadialConnectedNetwork(gridGC)\n",
    "    print(\"Khalil: \", loss, radiality, GC_utils.GC_Line_idtag2name_array(gridGC,disabled_lines))\n",
    "except:\n",
    "    print(\"falla Khalil\")\n",
    "\n",
    "#try:\n",
    "disabled_lines = dnr.Solve(method=\"Jakus\", MutationProbability=0.4, PopulationSize=16, Niter=20, ElitePopulation=2, TieLines=TieLinesID, fitness_ratio=0.3, loss_factor=0.02)\n",
    "_, loss = GC_utils.GC_PowerFlow(gridGC, config=disabled_lines)\n",
    "radiality = GC_utils.CheckRadialConnectedNetwork(gridGC)\n",
    "print(\"Jakus: \", loss, radiality, GC_utils.GC_Line_idtag2name_array(gridGC,disabled_lines))\n",
    "#except:\n",
    "#    print(\"falla Jakus\")\n",
    "\n",
    "try:\n",
    "    #disabled_lines = dnr.Solve(method=\"Morton\", TieLines=TieLines)\n",
    "    #_, loss = GC_utils.GC_PowerFlow(gridGC, config=disabled_lines)\n",
    "    #radiality = GC_utils.CheckRadialConnectedNetwork(gridGC)\n",
    "    #print(\"Morton: \", loss, radiality, GC_utils.GC_Line_idtag2name_array(gridGC,disabled_lines))  \n",
    "    print(\"Morton is not being tested for the Simbench network due to its size\") \n",
    "except:\n",
    "    print(\"falla Morton\")"
   ]
  },
  {
   "cell_type": "code",
   "execution_count": 8,
   "id": "fab084bb",
   "metadata": {},
   "outputs": [
    {
     "name": "stdout",
     "output_type": "stream",
     "text": [
      "Original network:  10.210427627793447 (True, True, True)\n",
      "GC loads -88.27899999999998\n",
      "PP loads-sgen: -88.279\n",
      "PP sgen: 609.9989999999999\n",
      "PP ext_grid: -83.1128976744974\n"
     ]
    }
   ],
   "source": [
    "TieLinesID=GC_utils.GC_Line_Name2idtag_array(gridGC, TieLinesName)\n",
    "_, loss = GC_utils.GC_PowerFlow(gridGC, config=TieLinesID)\n",
    "radiality = GC_utils.CheckRadialConnectedNetwork(gridGC)\n",
    "print(\"Original network: \", loss, radiality )\n",
    "print(\"GC loads\", np.array([gridGC.loads[i].P for i in range(len(gridGC.loads))]).sum())\n",
    "print(\"PP loads-sgen:\",gridPP.load.p_mw.sum()-gridPP.res_sgen.p_mw.sum())\n",
    "print(\"PP sgen:\",gridPP.res_sgen.p_mw.sum())\n",
    "print(\"PP ext_grid:\",gridPP.res_ext_grid.p_mw.sum())"
   ]
  },
  {
   "cell_type": "code",
   "execution_count": 9,
   "id": "f9305fbf3759046e",
   "metadata": {
    "ExecuteTime": {
     "end_time": "2024-12-23T13:42:11.986054Z",
     "start_time": "2024-12-23T13:42:08.708944Z"
    }
   },
   "outputs": [],
   "source": [
    "# calculate absolute profiles\n",
    "profiles = sb.get_absolute_values(gridPP, profiles_instead_of_study_cases=True)"
   ]
  },
  {
   "cell_type": "code",
   "execution_count": 10,
   "id": "b37b33a2",
   "metadata": {},
   "outputs": [],
   "source": [
    "# check that all needed profiles existent\n",
    "assert not sb.profiles_are_missing(gridPP)"
   ]
  },
  {
   "cell_type": "code",
   "execution_count": 11,
   "id": "f95c1e1175ea5c2f",
   "metadata": {
    "ExecuteTime": {
     "end_time": "2024-12-24T10:53:06.410831Z",
     "start_time": "2024-12-24T10:53:06.394806Z"
    }
   },
   "outputs": [
    {
     "name": "stdout",
     "output_type": "stream",
     "text": [
      "A total of 35136 samples which means 8784.0 hours and 366.0 days, from 2024-01-01 00:00:00 to 2024-12-31 23:45:00\n",
      "the selected time span of 1, taking 1 of each 4 samples, with a total of 24 samples to analyze, with initial sample = 17280\n"
     ]
    }
   ],
   "source": [
    "# Define the start date (January 1st of the year)\n",
    "start_date = '2024-01-01 00:00:00'\n",
    "# Create a date range with 15-minute intervals for a year\n",
    "timestamps = pd.date_range(start=start_date, periods=96 * 366, freq='15T')\n",
    "total_n_steps = len(profiles[('load', 'q_mvar')])\n",
    "hours = total_n_steps / 4\n",
    "days = hours / 24\n",
    "samples_per_day = 4*24\n",
    "print(f\"A total of {total_n_steps} samples which means {hours} hours and {days} days, from {timestamps[0]} to {timestamps[-1]}\")\n",
    "\n",
    "first_day = 180\n",
    "days = 1\n",
    "sample_coef = 4 #uses one of every sample_coef samples (i.e if sample_coef=4 uses one of each 4 samples\n",
    "TimeRange = int(days * samples_per_day/sample_coef)\n",
    "initial_sample = samples_per_day*first_day\n",
    "\n",
    "\n",
    "print(f\"the selected time span of {days}, taking 1 of each {sample_coef} samples, with a total of {TimeRange} samples to analyze, with initial sample = {initial_sample}\")"
   ]
  },
  {
   "cell_type": "code",
   "execution_count": 12,
   "id": "ed7042e9",
   "metadata": {},
   "outputs": [
    {
     "data": {
      "text/plain": [
       "(range(17280, 17305), 17280, 17304, 24)"
      ]
     },
     "execution_count": 12,
     "metadata": {},
     "output_type": "execute_result"
    }
   ],
   "source": [
    "# let's calculate the first day of the year (take every fourth time step of the first 96 quarter hour time steps).\n",
    "time_steps = range(initial_sample,initial_sample+TimeRange+1)  #96*10)\n",
    "time_steps,time_steps[0], time_steps[-1], time_steps[-1] - time_steps[0]"
   ]
  },
  {
   "cell_type": "code",
   "execution_count": 13,
   "id": "06c6e9a7",
   "metadata": {},
   "outputs": [
    {
     "name": "stdout",
     "output_type": "stream",
     "text": [
      "    initial Losses [17280]: 0.524978402635414\n",
      "    initial Losses [17281]: 0.5274349660704665\n",
      "    initial Losses [17282]: 0.5134969329480332\n",
      "    initial Losses [17283]: 0.4942780961320115\n",
      "    initial Losses [17284]: 0.4660157042247721\n",
      "    initial Losses [17285]: 0.41421060538929655\n",
      "    initial Losses [17286]: 0.3435443916855223\n",
      "    initial Losses [17287]: 0.2987281882551699\n",
      "    initial Losses [17288]: 0.263354664046408\n",
      "    initial Losses [17289]: 0.25487018826250174\n",
      "    initial Losses [17290]: 0.24725618620515\n",
      "    initial Losses [17291]: 0.24551916294172765\n",
      "    initial Losses [17292]: 0.25360363789306045\n",
      "    initial Losses [17293]: 0.2610483821297282\n",
      "    initial Losses [17294]: 0.23748831016520963\n",
      "    initial Losses [17295]: 0.22748802262390674\n",
      "    initial Losses [17296]: 0.23976004492641406\n",
      "    initial Losses [17297]: 0.2149386085669857\n",
      "    initial Losses [17298]: 0.226456178249632\n",
      "    initial Losses [17299]: 0.24151495451108349\n",
      "    initial Losses [17300]: 0.2627422825643997\n",
      "    initial Losses [17301]: 0.2693757966391373\n",
      "    initial Losses [17302]: 0.2291919359675781\n",
      "    initial Losses [17303]: 0.2189743751142792\n",
      "    initial Losses [17304]: 0.2279526513668356\n"
     ]
    }
   ],
   "source": [
    "# set trafo tap position so that no voltage limits are violated\n",
    "#gridPP.trafo.tap_pos = 1\n",
    "previousBestSolution = TieLinesName\n",
    "# run the time series and store results into a DataFrame\n",
    "results = pd.DataFrame([], index=time_steps, columns=[\"GC_loads\", \"GC_init_losses\", \"GC_opt_losses_MST\", \"GC_opt_losses_PSO\", \"GC_opt_losses_GA\", \"GC_opt_losses_GA_orig\", \"GC_radiality\"])\n",
    "for time_step in time_steps:\n",
    "    apply_absolute_values(gridPP, profiles, time_step)\n",
    "    gridGC = GC_PandaPowerImporter.PP2GC(gridPP)\n",
    "    #TieLinesID=GC_utils.GC_Line_Name2idtag_array(gridGC, previousBestSolution)\n",
    "    TieLinesID=GC_utils.GC_Line_Name2idtag_array(gridGC, TieLinesName)\n",
    "    OriginalTieLinesID=GC_utils.GC_Line_Name2idtag_array(gridGC, TieLinesName)\n",
    "    _, loss_init = GC_utils.GC_PowerFlow(gridGC, config=TieLinesID)\n",
    "    print(f\"    initial Losses [{time_step}]: {loss_init}\")\n"
   ]
  },
  {
   "cell_type": "code",
   "execution_count": 14,
   "id": "e8c85275",
   "metadata": {},
   "outputs": [
    {
     "name": "stdout",
     "output_type": "stream",
     "text": [
      "    initial powerflow: 0.524978402635414\n",
      "timestep: 17280/17304 \n",
      "    initial powerflow: 0.5274349660704665\n",
      "timestep: 17281/17304 \n",
      "    initial powerflow: 0.5134969329480332\n",
      "timestep: 17282/17304 \n",
      "    initial powerflow: 0.4942780961320115\n",
      "timestep: 17283/17304 \n",
      "    initial powerflow: 0.4660157042247721\n",
      "timestep: 17284/17304 \n",
      "    initial powerflow: 0.41421060538929655\n",
      "timestep: 17285/17304 \n",
      "    initial powerflow: 0.3435443916855223\n",
      "timestep: 17286/17304 \n",
      "    initial powerflow: 0.2987281882551699\n",
      "timestep: 17287/17304 \n",
      "    initial powerflow: 0.263354664046408\n",
      "timestep: 17288/17304 \n",
      "    initial powerflow: 0.25487018826250174\n",
      "timestep: 17289/17304 \n",
      "    initial powerflow: 0.24725618620515\n",
      "timestep: 17290/17304 \n",
      "    initial powerflow: 0.24551916294172765\n",
      "timestep: 17291/17304 \n",
      "    initial powerflow: 0.25360363789306045\n",
      "timestep: 17292/17304 \n",
      "    initial powerflow: 0.2610483821297282\n",
      "timestep: 17293/17304 \n",
      "    initial powerflow: 0.23748831016520963\n",
      "timestep: 17294/17304 \n",
      "    initial powerflow: 0.22748802262390674\n",
      "timestep: 17295/17304 \n",
      "    initial powerflow: 0.23976004492641406\n",
      "timestep: 17296/17304 \n",
      "    initial powerflow: 0.2149386085669857\n",
      "timestep: 17297/17304 \n",
      "    initial powerflow: 0.226456178249632\n",
      "timestep: 17298/17304 \n",
      "    initial powerflow: 0.24151495451108349\n",
      "timestep: 17299/17304 \n",
      "    initial powerflow: 0.2627422825643997\n",
      "timestep: 17300/17304 \n",
      "    initial powerflow: 0.2693757966391373\n",
      "timestep: 17301/17304 \n",
      "    initial powerflow: 0.2291919359675781\n",
      "timestep: 17302/17304 \n",
      "    initial powerflow: 0.2189743751142792\n",
      "timestep: 17303/17304 \n",
      "    initial powerflow: 0.2279526513668356\n",
      "timestep: 17304/17304 \n"
     ]
    }
   ],
   "source": [
    "# set trafo tap position so that no voltage limits are violated\n",
    "#gridPP.trafo.tap_pos = 1\n",
    "previousBestSolution = TieLinesName\n",
    "# run the time series and store results into a DataFrame\n",
    "results = pd.DataFrame([], index=time_steps, columns=[\"GC_loads\", \"GC_init_losses\", \"GC_opt_losses_MST\", \"GC_opt_losses_PSO\", \"GC_opt_losses_GA\", \"GC_opt_losses_GA_orig\", \"GC_radiality\"])\n",
    "for time_step in time_steps:\n",
    "    apply_absolute_values(gridPP, profiles, time_step)\n",
    "    gridGC = GC_PandaPowerImporter.PP2GC(gridPP)\n",
    "    #TieLinesID=GC_utils.GC_Line_Name2idtag_array(gridGC, previousBestSolution)\n",
    "    TieLinesID=GC_utils.GC_Line_Name2idtag_array(gridGC, TieLinesName)\n",
    "    OriginalTieLinesID=GC_utils.GC_Line_Name2idtag_array(gridGC, TieLinesName)\n",
    "    _, loss_init = GC_utils.GC_PowerFlow(gridGC, config=TieLinesID)\n",
    "    print(f\"    initial powerflow: {loss_init}\")\n",
    "    dnr = DistributionNetworkReconfiguration(gridGC, verbose_logging=logging.ERROR)\n",
    "    disabled_lines_GA = dnr.Solve(method=\"Jakus\", MutationProbability=0.4, PopulationSize=16, Niter=20, ElitePopulation=2, fitness_ratio=1,loss_factor=1, TieLines=TieLinesID)\n",
    "    disabled_lines_GA_orig = dnr.Solve(method=\"Jakus\", MutationProbability=0.4, PopulationSize=16, Niter=20, ElitePopulation=2, TieLines=OriginalTieLinesID, fitness_ratio=1,loss_factor=1)\n",
    "    disabled_lines_MST = dnr.Solve(method=\"MSTgreedy\", randomMST=False, one=False, current_power=True, algorithm=\"prim\")\n",
    "    #disabled_lines_MST = dnr.Solve(method=\"MSTgreedy\", randomMST=False, one=False, current_power=True, algorithm=\"kruskal\")\n",
    "    disabled_lines_PSO = dnr.Solve(method=\"Khalil\", NumCandidates=10)\n",
    "    previousBestSolution = GC_utils.GC_Line_idtag2name_array(gridGC, disabled_lines_GA)\n",
    "    _, loss_opt_MST = GC_utils.GC_PowerFlow(gridGC, config=disabled_lines_MST)\n",
    "    _, loss_opt_PSO = GC_utils.GC_PowerFlow(gridGC, config=disabled_lines_PSO)\n",
    "    _, loss_opt_GA = GC_utils.GC_PowerFlow(gridGC, config=disabled_lines_GA)\n",
    "    _, loss_opt_GA_orig = GC_utils.GC_PowerFlow(gridGC, config=disabled_lines_GA_orig)\n",
    "    radiality = GC_utils.CheckRadialConnectedNetwork(gridGC)\n",
    "    results.loc[time_step, \"GC_init_losses\"] = loss_init\n",
    "    results.loc[time_step, \"GC_opt_losses_MST\"] = loss_opt_MST\n",
    "    results.loc[time_step, \"GC_opt_losses_PSO\"] = loss_opt_PSO\n",
    "    results.loc[time_step, \"GC_opt_losses_GA\"] = loss_opt_GA\n",
    "    results.loc[time_step, \"GC_opt_losses_GA_orig\"] = loss_opt_GA_orig\n",
    "    results.loc[time_step, \"GC_radiality\"] = str(radiality)\n",
    "    results.loc[time_step, \"GC_loads\"] = np.array([gridGC.loads[i].P for i in range(len(gridGC.loads))]).sum()\n",
    "    print(f\"timestep: {time_step}/{time_steps[-1]} \")    \n",
    "\n",
    "results['GC_init_losses'] = pd.to_numeric(results['GC_init_losses'])\n",
    "results['GC_opt_losses_MST'] = pd.to_numeric(results['GC_opt_losses_MST'])\n",
    "results['GC_opt_losses_PSO'] = pd.to_numeric(results['GC_opt_losses_PSO'])\n",
    "results['GC_opt_losses_GA'] = pd.to_numeric(results['GC_opt_losses_GA'])\n",
    "results['GC_loads'] = pd.to_numeric(results['GC_loads'])"
   ]
  },
  {
   "cell_type": "code",
   "execution_count": 15,
   "id": "ce417d30",
   "metadata": {},
   "outputs": [
    {
     "data": {
      "application/vnd.microsoft.datawrangler.viewer.v0+json": {
       "columns": [
        {
         "name": "index",
         "rawType": "int64",
         "type": "integer"
        },
        {
         "name": "GC_loads",
         "rawType": "float64",
         "type": "float"
        },
        {
         "name": "GC_init_losses",
         "rawType": "float64",
         "type": "float"
        },
        {
         "name": "GC_opt_losses_MST",
         "rawType": "float64",
         "type": "float"
        },
        {
         "name": "GC_opt_losses_PSO",
         "rawType": "float64",
         "type": "float"
        },
        {
         "name": "GC_opt_losses_GA",
         "rawType": "float64",
         "type": "float"
        },
        {
         "name": "GC_opt_losses_GA_orig",
         "rawType": "object",
         "type": "unknown"
        },
        {
         "name": "GC_radiality",
         "rawType": "object",
         "type": "string"
        }
       ],
       "ref": "81eb1d1d-8600-4e1e-9fe0-3fa3f7495752",
       "rows": [
        [
         "17280",
         "-29.33160082515997",
         "0.524978402635414",
         "0.4583744372457665",
         "0.49137411946511556",
         "0.4528814207240775",
         "0.4618778346965976",
         "(True, True, True)"
        ],
        [
         "17281",
         "-28.215934301440022",
         "0.5274349660704665",
         "0.46114868582424046",
         "0.5029432624606978",
         "0.4270547455524246",
         "0.4138124107860475",
         "(True, True, True)"
        ],
        [
         "17282",
         "-26.391539399459962",
         "0.5134969329480332",
         "0.4528957993852675",
         "0.49656565832219757",
         "0.43471962458884933",
         "0.4645596282884965",
         "(True, True, True)"
        ],
        [
         "17283",
         "-26.706056903500013",
         "0.4942780961320115",
         "0.43997951867669977",
         "0.4870256628457848",
         "0.44371581872507604",
         "0.40340853042554875",
         "(True, True, True)"
        ],
        [
         "17284",
         "-25.03657671027999",
         "0.4660157042247721",
         "0.4207343858439741",
         "0.4591940215062788",
         "0.3990945590758656",
         "0.42050628014683783",
         "(True, True, True)"
        ],
        [
         "17285",
         "-21.401563402699974",
         "0.41421060538929655",
         "0.3745465731608411",
         "0.4145454803479684",
         "0.36932301150643465",
         "0.3406479740628655",
         "(True, True, True)"
        ],
        [
         "17286",
         "-13.039116405299971",
         "0.3435443916855223",
         "0.3256519071762875",
         "0.35591587348822323",
         "0.2994989309693782",
         "0.2972966253108893",
         "(True, True, True)"
        ],
        [
         "17287",
         "-7.283568271559979",
         "0.2987281882551699",
         "0.28569196216387954",
         "0.32054545233360443",
         "0.2543292193439407",
         "0.2543292193439407",
         "(True, True, True)"
        ],
        [
         "17288",
         "-1.6074780709999952",
         "0.263354664046408",
         "0.25404205782202877",
         "0.2859565155248484",
         "0.21975925826806592",
         "0.2019102958624014",
         "(True, True, True)"
        ],
        [
         "17289",
         "4.76035761851999",
         "0.25487018826250174",
         "0.24532991906037838",
         "0.25746491039033054",
         "0.21039122279440287",
         "0.21039122279440287",
         "(True, True, True)"
        ],
        [
         "17290",
         "5.052331021480006",
         "0.24725618620515",
         "0.23983940729204126",
         "0.24923048065920955",
         "0.18984904139335493",
         "0.20441021915038854",
         "(True, True, True)"
        ],
        [
         "17291",
         "9.078666419939998",
         "0.24551916294172765",
         "0.23535721330587608",
         "0.23555542123741519",
         "0.20090923847103923",
         "0.20090923847103923",
         "(True, True, True)"
        ],
        [
         "17292",
         "9.585318087900006",
         "0.25360363789306045",
         "0.24055220447677517",
         "0.2511622224253245",
         "0.20550877397485898",
         "0.20799052251953107",
         "(True, True, True)"
        ],
        [
         "17293",
         "7.082311178440004",
         "0.2610483821297282",
         "0.2487691421092528",
         "0.26440328457965406",
         "0.20957972769775854",
         "0.21841084562615393",
         "(True, True, True)"
        ],
        [
         "17294",
         "5.218530254079994",
         "0.23748831016520963",
         "0.2315304095823424",
         "0.26744276986117205",
         "0.19833102406951225",
         "0.19833102406951225",
         "(True, True, True)"
        ],
        [
         "17295",
         "9.93457215415999",
         "0.22748802262390674",
         "0.22319323863015497",
         "0.24300220852201126",
         "0.189809189432858",
         "0.17942421534422942",
         "(True, True, True)"
        ],
        [
         "17296",
         "6.846989081300002",
         "0.23976004492641406",
         "0.23464162663328017",
         "0.2615548930399681",
         "0.20316230456169623",
         "0.20316230456169623",
         "(True, True, True)"
        ],
        [
         "17297",
         "10.367171406300013",
         "0.2149386085669857",
         "0.21331906543911905",
         "0.22878449766283293",
         "0.17897772544952062",
         "0.17616361325675942",
         "(True, True, True)"
        ],
        [
         "17298",
         "15.116527331860002",
         "0.226456178249632",
         "0.22049376723447028",
         "0.24207224220323365",
         "0.18854797245466814",
         "0.1757401650188814",
         "(True, True, True)"
        ],
        [
         "17299",
         "21.642433116459983",
         "0.24151495451108349",
         "0.23029047670410044",
         "0.2541278455054982",
         "0.20150552334998692",
         "0.18280269104744237",
         "(True, True, True)"
        ],
        [
         "17300",
         "24.113717492299998",
         "0.2627422825643997",
         "0.2455662020856248",
         "0.2546641415680963",
         "0.21989012386171874",
         "0.21989012386171874",
         "(True, True, True)"
        ],
        [
         "17301",
         "29.601684464469958",
         "0.2693757966391373",
         "0.2470652624476439",
         "0.3165401776571565",
         "0.20337349934337676",
         "0.19759497144001872",
         "(True, True, True)"
        ],
        [
         "17302",
         "19.099554261744984",
         "0.2291919359675781",
         "0.22118482931677905",
         "0.2670274470707421",
         "0.1782755630493764",
         "0.1858285099561255",
         "(True, True, True)"
        ],
        [
         "17303",
         "13.493652998675014",
         "0.2189743751142792",
         "0.21530784060273955",
         "0.2194353200693845",
         "0.17814229182491795",
         "0.17563059254593277",
         "(True, True, True)"
        ],
        [
         "17304",
         "18.635744470005005",
         "0.2279526513668356",
         "0.22009268952252478",
         "0.23487888308257718",
         "0.16987475955161271",
         "0.1824979710630013",
         "(True, True, True)"
        ]
       ],
       "shape": {
        "columns": 7,
        "rows": 25
       }
      },
      "text/html": [
       "<div>\n",
       "<style scoped>\n",
       "    .dataframe tbody tr th:only-of-type {\n",
       "        vertical-align: middle;\n",
       "    }\n",
       "\n",
       "    .dataframe tbody tr th {\n",
       "        vertical-align: top;\n",
       "    }\n",
       "\n",
       "    .dataframe thead th {\n",
       "        text-align: right;\n",
       "    }\n",
       "</style>\n",
       "<table border=\"1\" class=\"dataframe\">\n",
       "  <thead>\n",
       "    <tr style=\"text-align: right;\">\n",
       "      <th></th>\n",
       "      <th>GC_loads</th>\n",
       "      <th>GC_init_losses</th>\n",
       "      <th>GC_opt_losses_MST</th>\n",
       "      <th>GC_opt_losses_PSO</th>\n",
       "      <th>GC_opt_losses_GA</th>\n",
       "      <th>GC_opt_losses_GA_orig</th>\n",
       "      <th>GC_radiality</th>\n",
       "    </tr>\n",
       "  </thead>\n",
       "  <tbody>\n",
       "    <tr>\n",
       "      <th>17280</th>\n",
       "      <td>-29.331601</td>\n",
       "      <td>0.524978</td>\n",
       "      <td>0.458374</td>\n",
       "      <td>0.491374</td>\n",
       "      <td>0.452881</td>\n",
       "      <td>0.461878</td>\n",
       "      <td>(True, True, True)</td>\n",
       "    </tr>\n",
       "    <tr>\n",
       "      <th>17281</th>\n",
       "      <td>-28.215934</td>\n",
       "      <td>0.527435</td>\n",
       "      <td>0.461149</td>\n",
       "      <td>0.502943</td>\n",
       "      <td>0.427055</td>\n",
       "      <td>0.413812</td>\n",
       "      <td>(True, True, True)</td>\n",
       "    </tr>\n",
       "    <tr>\n",
       "      <th>17282</th>\n",
       "      <td>-26.391539</td>\n",
       "      <td>0.513497</td>\n",
       "      <td>0.452896</td>\n",
       "      <td>0.496566</td>\n",
       "      <td>0.434720</td>\n",
       "      <td>0.464560</td>\n",
       "      <td>(True, True, True)</td>\n",
       "    </tr>\n",
       "    <tr>\n",
       "      <th>17283</th>\n",
       "      <td>-26.706057</td>\n",
       "      <td>0.494278</td>\n",
       "      <td>0.439980</td>\n",
       "      <td>0.487026</td>\n",
       "      <td>0.443716</td>\n",
       "      <td>0.403409</td>\n",
       "      <td>(True, True, True)</td>\n",
       "    </tr>\n",
       "    <tr>\n",
       "      <th>17284</th>\n",
       "      <td>-25.036577</td>\n",
       "      <td>0.466016</td>\n",
       "      <td>0.420734</td>\n",
       "      <td>0.459194</td>\n",
       "      <td>0.399095</td>\n",
       "      <td>0.420506</td>\n",
       "      <td>(True, True, True)</td>\n",
       "    </tr>\n",
       "    <tr>\n",
       "      <th>17285</th>\n",
       "      <td>-21.401563</td>\n",
       "      <td>0.414211</td>\n",
       "      <td>0.374547</td>\n",
       "      <td>0.414545</td>\n",
       "      <td>0.369323</td>\n",
       "      <td>0.340648</td>\n",
       "      <td>(True, True, True)</td>\n",
       "    </tr>\n",
       "    <tr>\n",
       "      <th>17286</th>\n",
       "      <td>-13.039116</td>\n",
       "      <td>0.343544</td>\n",
       "      <td>0.325652</td>\n",
       "      <td>0.355916</td>\n",
       "      <td>0.299499</td>\n",
       "      <td>0.297297</td>\n",
       "      <td>(True, True, True)</td>\n",
       "    </tr>\n",
       "    <tr>\n",
       "      <th>17287</th>\n",
       "      <td>-7.283568</td>\n",
       "      <td>0.298728</td>\n",
       "      <td>0.285692</td>\n",
       "      <td>0.320545</td>\n",
       "      <td>0.254329</td>\n",
       "      <td>0.254329</td>\n",
       "      <td>(True, True, True)</td>\n",
       "    </tr>\n",
       "    <tr>\n",
       "      <th>17288</th>\n",
       "      <td>-1.607478</td>\n",
       "      <td>0.263355</td>\n",
       "      <td>0.254042</td>\n",
       "      <td>0.285957</td>\n",
       "      <td>0.219759</td>\n",
       "      <td>0.201910</td>\n",
       "      <td>(True, True, True)</td>\n",
       "    </tr>\n",
       "    <tr>\n",
       "      <th>17289</th>\n",
       "      <td>4.760358</td>\n",
       "      <td>0.254870</td>\n",
       "      <td>0.245330</td>\n",
       "      <td>0.257465</td>\n",
       "      <td>0.210391</td>\n",
       "      <td>0.210391</td>\n",
       "      <td>(True, True, True)</td>\n",
       "    </tr>\n",
       "    <tr>\n",
       "      <th>17290</th>\n",
       "      <td>5.052331</td>\n",
       "      <td>0.247256</td>\n",
       "      <td>0.239839</td>\n",
       "      <td>0.249230</td>\n",
       "      <td>0.189849</td>\n",
       "      <td>0.204410</td>\n",
       "      <td>(True, True, True)</td>\n",
       "    </tr>\n",
       "    <tr>\n",
       "      <th>17291</th>\n",
       "      <td>9.078666</td>\n",
       "      <td>0.245519</td>\n",
       "      <td>0.235357</td>\n",
       "      <td>0.235555</td>\n",
       "      <td>0.200909</td>\n",
       "      <td>0.200909</td>\n",
       "      <td>(True, True, True)</td>\n",
       "    </tr>\n",
       "    <tr>\n",
       "      <th>17292</th>\n",
       "      <td>9.585318</td>\n",
       "      <td>0.253604</td>\n",
       "      <td>0.240552</td>\n",
       "      <td>0.251162</td>\n",
       "      <td>0.205509</td>\n",
       "      <td>0.207991</td>\n",
       "      <td>(True, True, True)</td>\n",
       "    </tr>\n",
       "    <tr>\n",
       "      <th>17293</th>\n",
       "      <td>7.082311</td>\n",
       "      <td>0.261048</td>\n",
       "      <td>0.248769</td>\n",
       "      <td>0.264403</td>\n",
       "      <td>0.209580</td>\n",
       "      <td>0.218411</td>\n",
       "      <td>(True, True, True)</td>\n",
       "    </tr>\n",
       "    <tr>\n",
       "      <th>17294</th>\n",
       "      <td>5.218530</td>\n",
       "      <td>0.237488</td>\n",
       "      <td>0.231530</td>\n",
       "      <td>0.267443</td>\n",
       "      <td>0.198331</td>\n",
       "      <td>0.198331</td>\n",
       "      <td>(True, True, True)</td>\n",
       "    </tr>\n",
       "    <tr>\n",
       "      <th>17295</th>\n",
       "      <td>9.934572</td>\n",
       "      <td>0.227488</td>\n",
       "      <td>0.223193</td>\n",
       "      <td>0.243002</td>\n",
       "      <td>0.189809</td>\n",
       "      <td>0.179424</td>\n",
       "      <td>(True, True, True)</td>\n",
       "    </tr>\n",
       "    <tr>\n",
       "      <th>17296</th>\n",
       "      <td>6.846989</td>\n",
       "      <td>0.239760</td>\n",
       "      <td>0.234642</td>\n",
       "      <td>0.261555</td>\n",
       "      <td>0.203162</td>\n",
       "      <td>0.203162</td>\n",
       "      <td>(True, True, True)</td>\n",
       "    </tr>\n",
       "    <tr>\n",
       "      <th>17297</th>\n",
       "      <td>10.367171</td>\n",
       "      <td>0.214939</td>\n",
       "      <td>0.213319</td>\n",
       "      <td>0.228784</td>\n",
       "      <td>0.178978</td>\n",
       "      <td>0.176164</td>\n",
       "      <td>(True, True, True)</td>\n",
       "    </tr>\n",
       "    <tr>\n",
       "      <th>17298</th>\n",
       "      <td>15.116527</td>\n",
       "      <td>0.226456</td>\n",
       "      <td>0.220494</td>\n",
       "      <td>0.242072</td>\n",
       "      <td>0.188548</td>\n",
       "      <td>0.175740</td>\n",
       "      <td>(True, True, True)</td>\n",
       "    </tr>\n",
       "    <tr>\n",
       "      <th>17299</th>\n",
       "      <td>21.642433</td>\n",
       "      <td>0.241515</td>\n",
       "      <td>0.230290</td>\n",
       "      <td>0.254128</td>\n",
       "      <td>0.201506</td>\n",
       "      <td>0.182803</td>\n",
       "      <td>(True, True, True)</td>\n",
       "    </tr>\n",
       "    <tr>\n",
       "      <th>17300</th>\n",
       "      <td>24.113717</td>\n",
       "      <td>0.262742</td>\n",
       "      <td>0.245566</td>\n",
       "      <td>0.254664</td>\n",
       "      <td>0.219890</td>\n",
       "      <td>0.219890</td>\n",
       "      <td>(True, True, True)</td>\n",
       "    </tr>\n",
       "    <tr>\n",
       "      <th>17301</th>\n",
       "      <td>29.601684</td>\n",
       "      <td>0.269376</td>\n",
       "      <td>0.247065</td>\n",
       "      <td>0.316540</td>\n",
       "      <td>0.203373</td>\n",
       "      <td>0.197595</td>\n",
       "      <td>(True, True, True)</td>\n",
       "    </tr>\n",
       "    <tr>\n",
       "      <th>17302</th>\n",
       "      <td>19.099554</td>\n",
       "      <td>0.229192</td>\n",
       "      <td>0.221185</td>\n",
       "      <td>0.267027</td>\n",
       "      <td>0.178276</td>\n",
       "      <td>0.185829</td>\n",
       "      <td>(True, True, True)</td>\n",
       "    </tr>\n",
       "    <tr>\n",
       "      <th>17303</th>\n",
       "      <td>13.493653</td>\n",
       "      <td>0.218974</td>\n",
       "      <td>0.215308</td>\n",
       "      <td>0.219435</td>\n",
       "      <td>0.178142</td>\n",
       "      <td>0.175631</td>\n",
       "      <td>(True, True, True)</td>\n",
       "    </tr>\n",
       "    <tr>\n",
       "      <th>17304</th>\n",
       "      <td>18.635744</td>\n",
       "      <td>0.227953</td>\n",
       "      <td>0.220093</td>\n",
       "      <td>0.234879</td>\n",
       "      <td>0.169875</td>\n",
       "      <td>0.182498</td>\n",
       "      <td>(True, True, True)</td>\n",
       "    </tr>\n",
       "  </tbody>\n",
       "</table>\n",
       "</div>"
      ],
      "text/plain": [
       "        GC_loads  GC_init_losses  GC_opt_losses_MST  GC_opt_losses_PSO  GC_opt_losses_GA GC_opt_losses_GA_orig        GC_radiality\n",
       "17280 -29.331601        0.524978           0.458374           0.491374          0.452881              0.461878  (True, True, True)\n",
       "17281 -28.215934        0.527435           0.461149           0.502943          0.427055              0.413812  (True, True, True)\n",
       "17282 -26.391539        0.513497           0.452896           0.496566          0.434720              0.464560  (True, True, True)\n",
       "17283 -26.706057        0.494278           0.439980           0.487026          0.443716              0.403409  (True, True, True)\n",
       "17284 -25.036577        0.466016           0.420734           0.459194          0.399095              0.420506  (True, True, True)\n",
       "17285 -21.401563        0.414211           0.374547           0.414545          0.369323              0.340648  (True, True, True)\n",
       "17286 -13.039116        0.343544           0.325652           0.355916          0.299499              0.297297  (True, True, True)\n",
       "17287  -7.283568        0.298728           0.285692           0.320545          0.254329              0.254329  (True, True, True)\n",
       "17288  -1.607478        0.263355           0.254042           0.285957          0.219759              0.201910  (True, True, True)\n",
       "17289   4.760358        0.254870           0.245330           0.257465          0.210391              0.210391  (True, True, True)\n",
       "17290   5.052331        0.247256           0.239839           0.249230          0.189849              0.204410  (True, True, True)\n",
       "17291   9.078666        0.245519           0.235357           0.235555          0.200909              0.200909  (True, True, True)\n",
       "17292   9.585318        0.253604           0.240552           0.251162          0.205509              0.207991  (True, True, True)\n",
       "17293   7.082311        0.261048           0.248769           0.264403          0.209580              0.218411  (True, True, True)\n",
       "17294   5.218530        0.237488           0.231530           0.267443          0.198331              0.198331  (True, True, True)\n",
       "17295   9.934572        0.227488           0.223193           0.243002          0.189809              0.179424  (True, True, True)\n",
       "17296   6.846989        0.239760           0.234642           0.261555          0.203162              0.203162  (True, True, True)\n",
       "17297  10.367171        0.214939           0.213319           0.228784          0.178978              0.176164  (True, True, True)\n",
       "17298  15.116527        0.226456           0.220494           0.242072          0.188548              0.175740  (True, True, True)\n",
       "17299  21.642433        0.241515           0.230290           0.254128          0.201506              0.182803  (True, True, True)\n",
       "17300  24.113717        0.262742           0.245566           0.254664          0.219890              0.219890  (True, True, True)\n",
       "17301  29.601684        0.269376           0.247065           0.316540          0.203373              0.197595  (True, True, True)\n",
       "17302  19.099554        0.229192           0.221185           0.267027          0.178276              0.185829  (True, True, True)\n",
       "17303  13.493653        0.218974           0.215308           0.219435          0.178142              0.175631  (True, True, True)\n",
       "17304  18.635744        0.227953           0.220093           0.234879          0.169875              0.182498  (True, True, True)"
      ]
     },
     "execution_count": 15,
     "metadata": {},
     "output_type": "execute_result"
    }
   ],
   "source": [
    "results"
   ]
  },
  {
   "cell_type": "code",
   "execution_count": 16,
   "id": "7206c7b7",
   "metadata": {},
   "outputs": [
    {
     "data": {
      "image/png": "[encoded data removed]",
      "text/plain": [
       "<Figure size 400x300 with 2 Axes>"
      ]
     },
     "metadata": {},
     "output_type": "display_data"
    }
   ],
   "source": [
    "CreatePlot2Lines(data=results, varx=None, var1='GC_loads', var2='GC_init_losses', title=None, axs=None, a=0, b=0)\n"
   ]
  },
  {
   "cell_type": "code",
   "execution_count": 17,
   "id": "03261637",
   "metadata": {},
   "outputs": [
    {
     "data": {
      "image/png": "[encoded data removed]",
      "text/plain": [
       "<Figure size 400x300 with 2 Axes>"
      ]
     },
     "metadata": {},
     "output_type": "display_data"
    }
   ],
   "source": [
    "CreatePlot2Lines(data=results, varx=None, var1='GC_init_losses', var2='GC_opt_losses_GA', title=None, axs=None, a=0, b=0)"
   ]
  },
  {
   "cell_type": "code",
   "execution_count": 18,
   "id": "44f8bdc9",
   "metadata": {},
   "outputs": [
    {
     "data": {
      "image/png": "[encoded data removed]",
      "text/plain": [
       "<Figure size 400x300 with 2 Axes>"
      ]
     },
     "metadata": {},
     "output_type": "display_data"
    }
   ],
   "source": [
    "CreatePlot2Lines(data=results, varx=None, var1='GC_init_losses', var2='GC_opt_losses_PSO', title=None, axs=None, a=0, b=0)"
   ]
  },
  {
   "cell_type": "code",
   "execution_count": 19,
   "id": "ff47f35f",
   "metadata": {},
   "outputs": [
    {
     "data": {
      "image/png": "[encoded data removed]",
      "text/plain": [
       "<Figure size 400x300 with 2 Axes>"
      ]
     },
     "metadata": {},
     "output_type": "display_data"
    }
   ],
   "source": [
    "CreatePlot2Lines(data=results, varx=None, var1='GC_init_losses', var2='GC_opt_losses_MST', title=None, axs=None, a=0, b=0)"
   ]
  },
  {
   "cell_type": "code",
   "execution_count": null,
   "id": "887f6153",
   "metadata": {},
   "outputs": [],
   "source": []
  }
 ],
 "metadata": {
  "kernelspec": {
   "display_name": "DNRlib",
   "language": "python",
   "name": "python3"
  },
  "language_info": {
   "codemirror_mode": {
    "name": "ipython",
    "version": 3
   },
   "file_extension": ".py",
   "mimetype": "text/x-python",
   "name": "python",
   "nbconvert_exporter": "python",
   "pygments_lexer": "ipython3",
   "version": "3.13.0"
  }
 },
 "nbformat": 4,
 "nbformat_minor": 5
}
