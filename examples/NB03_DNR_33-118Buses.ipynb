{
 "cells": [
  {
   "cell_type": "code",
   "execution_count": 1,
   "metadata": {},
   "outputs": [],
   "source": [
    "import networkx as nx\n",
    "import pandas as pd\n",
    "import logging\n",
    "import numpy as np\n",
    "import random\n",
    "import os\n",
    "import sys\n",
    "import GridCalEngine.api as gce  # For interfacing with the GridCal API\n",
    "from GridCalEngine.IO.file_handler import FileOpen, FileSave\n",
    "import simbench as sb\n",
    "import pandapower as pp"
   ]
  },
  {
   "cell_type": "code",
   "execution_count": 2,
   "metadata": {},
   "outputs": [],
   "source": [
    "\n",
    "# Add the directory containing utility_script.py to the Python path\n",
    "sys.path.append(os.path.abspath(os.path.join('..', 'src')))\n",
    "\n",
    "import GC_utils\n",
    "import GC_PandaPowerImporter\n",
    "import GC_DistributionNetworkReconfiguration\n"
   ]
  },
  {
   "cell_type": "code",
   "execution_count": 3,
   "metadata": {},
   "outputs": [
    {
     "name": "stdout",
     "output_type": "stream",
     "text": [
      "Algorithms to find the optimal distribution network configuration\n"
     ]
    }
   ],
   "source": [
    "print('Algorithms to find the optimal distribution network configuration')\n",
    "\n",
    "logging.basicConfig(\n",
    "    level=logging.ERROR,  # Set the log level to DEBUG\n",
    "    format='%(asctime)s - %(name)s - %(levelname)s - %(message)s',  # Set the log format\n",
    "    datefmt='%Y-%m-%d %H:%M:%S'  # Set the date format\n",
    ")\n"
   ]
  },
  {
   "cell_type": "code",
   "execution_count": 4,
   "metadata": {},
   "outputs": [],
   "source": [
    "#This function call DNR library, executes the selected DNR method and prints the results, to easy the comparison\n",
    "\n",
    "def executeTest(dnr, method, TieLinesID=[], randomMST=False, one=False, current_power=True, algorithm=\"prim\", NumCandidates=10, fitness_ratio=1, loss_factor=0.02, MutationProbability=0.4, PopulationSize=16, Niter=20, ElitePopulation=2):\n",
    "    if method == None:\n",
    "        _, losses = GC_utils.GC_PowerFlow(dnr.grid, config=TieLinesID)\n",
    "        radiality = GC_utils.CheckRadialConnectedNetwork(dnr.grid)\n",
    "        print(\"losses:\", losses)\n",
    "        print(\"radiality:\", radiality)\n",
    "        print(\"Loops:\")\n",
    "        for loop in GC_utils.SearchLoopsLines(dnr.grid):\n",
    "            print(GC_utils.GC_Line_idtag2name_array(dnr.grid,loop))\n",
    "    else:      \n",
    "#       try:\n",
    "        dnr.NumPF=0\n",
    "        DisabledLinesID = dnr.Solve(method=method, TieLines=TieLinesID, randomMST=randomMST, one=one, current_power=current_power, algorithm=algorithm, NumCandidates=NumCandidates, fitness_ratio=fitness_ratio, loss_factor=loss_factor, MutationProbability=MutationProbability, PopulationSize=PopulationSize, Niter=Niter, ElitePopulation=ElitePopulation)\n",
    "\n",
    "        _, losses = GC_utils.GC_PowerFlow(dnr.grid, config=DisabledLinesID)\n",
    "        radiality = GC_utils.CheckRadialConnectedNetwork(dnr.grid)\n",
    "        print(\"DNR solution by \", method, \":\", GC_utils.GC_Line_idtag2name_array(dnr.grid, DisabledLinesID))\n",
    "        print(\"Number of executed Power Flows:\", dnr.NumPF)\n",
    "        print(\"losses:\", losses)\n",
    "        print(\"radiality:\", radiality)\n",
    "        print(\"Loops:\")\n",
    "        for loop in GC_utils.SearchLoopsLines(dnr.grid):\n",
    "            print(GC_utils.GC_Line_idtag2name_array(dnr.grid,loop))\n",
    "#        except:\n",
    "#            print(method, \" method failed\")        \n"
   ]
  },
  {
   "cell_type": "code",
   "execution_count": 5,
   "metadata": {},
   "outputs": [],
   "source": [
    "## load the two networks to test, the 33 and 118 buses cases"
   ]
  },
  {
   "cell_type": "code",
   "execution_count": 6,
   "metadata": {},
   "outputs": [],
   "source": [
    "caseName = \"33 buses case based on Baran and Wu\"\n",
    "gridGC33 = FileOpen(\"D:\\\\15_Thesis-code\\\\02_DistributionNetworkOperationFramework\\\\03_NetworkExamples\\\\gridcal\\\\case33bw.m\").open()\n",
    "TieLinesName118=['line 32','line 118','line 34','line 35','line 36']\n",
    "TieLinesName33=['21_8_1', '9_15_1', '12_22_1', '18_33_1','25_29_1']\n",
    "TieLinesID33=GC_utils.GC_Line_Name2idtag_array(gridGC33, TieLinesName33)"
   ]
  },
  {
   "cell_type": "code",
   "execution_count": 7,
   "metadata": {},
   "outputs": [],
   "source": [
    "caseName = \"69 buses\"\n",
    "gridGC69 = FileOpen(\"D:\\\\15_Thesis-code\\\\02_DistributionNetworkOperationFramework\\\\03_NetworkExamples\\\\gridcal\\\\case69.gridcal\").open()\n",
    "TieLinesName69 = ['line 57','line 10','line 69','line 14','line 19']\n",
    "TieLinesID69=GC_utils.GC_Line_Name2idtag_array(gridGC69, TieLinesName69)"
   ]
  },
  {
   "cell_type": "code",
   "execution_count": 8,
   "metadata": {},
   "outputs": [
    {
     "name": "stdout",
     "output_type": "stream",
     "text": [
      "DNR solution by  MSTgreedy : ['line 8 ', 'line 17', 'line 21', 'line 39', 'line 45']\n",
      "Number of executed Power Flows: 1\n",
      "losses: 232802.12136816452\n",
      "radiality: (True, True, True)\n",
      "Loops:\n"
     ]
    }
   ],
   "source": [
    "dnr69 = GC_DistributionNetworkReconfiguration.DistributionNetworkReconfiguration(gridGC69, verbose_logging=logging.ERROR)\n",
    "executeTest(dnr69, 'MSTgreedy', None, randomMST=False, one=False, current_power=True, algorithm=\"prim\")\n"
   ]
  },
  {
   "cell_type": "code",
   "execution_count": 9,
   "metadata": {},
   "outputs": [
    {
     "data": {
      "text/plain": [
       "(True, True, True)"
      ]
     },
     "execution_count": 9,
     "metadata": {},
     "output_type": "execute_result"
    }
   ],
   "source": [
    "GC_utils.CheckRadialConnectedNetwork(gridGC69)"
   ]
  },
  {
   "cell_type": "code",
   "execution_count": 10,
   "metadata": {},
   "outputs": [
    {
     "data": {
      "text/plain": [
       "[(.::0b6ae31555954779810eff35c8cc1336::line 1 , 'Bus 1', 'Bus 2'),\n",
       " (.::7631929130c74c308556ba90747aeb29::line 2 , 'Bus 2', 'Bus 3'),\n",
       " (.::bec9f770a92b4b9f8c094c4439bcac65::line 3 , 'Bus 3', 'Bus 4'),\n",
       " (.::4e77285ff766449cb68ddb3cdfae99a2::line 4 , 'Bus 4', 'Bus 5'),\n",
       " (.::33aa4d412a8d4c6c9faa3c7e64848a35::line 5 , 'Bus 5', 'Bus 6'),\n",
       " (.::17f134ed0e3b426cb3e869104e29de0c::line 6 , 'Bus 6', 'Bus 7'),\n",
       " (.::976f80531008478ca244b1a3475afb90::line 7 , 'Bus 7', 'Bus 8'),\n",
       " (.::942080f9d12b48ef98401e8d3ab5fcc9::line 8 , 'Bus 8', 'Bus 9'),\n",
       " (.::3614d10c12f144688a4a345633deeeb4::line 9 , 'Bus 9', 'Bus 10'),\n",
       " (.::e2dd2262831f441483664b2127cadeb6::line 10, 'Bus 10', 'Bus 11'),\n",
       " (.::c18f1ddabc7e42dc9ded7f3038881d24::line 11, 'Bus 11', 'Bus 12'),\n",
       " (.::f7687b50ab564fbca8a918a6d594fe7a::line 12, 'Bus 12', 'Bus 13'),\n",
       " (.::061f4093eaad4f378d72598a0cca3724::line 13, 'Bus 13', 'Bus 14'),\n",
       " (.::ef203c91e34b4aa9894b2a6f3e134ea3::line 14, 'Bus 14', 'Bus 15'),\n",
       " (.::0738f69f7fcf441ca4bec1974e147b76::line 15, 'Bus 15', 'Bus 16'),\n",
       " (.::7140698b766e4ea68243eebbea40895b::line 16, 'Bus 16', 'Bus 17'),\n",
       " (.::35da720756304fd7aff6827eae332d24::line 17, 'Bus 17', 'Bus 18'),\n",
       " (.::7c9c691ee41947c493ede98ba4ae312d::line 18, 'Bus 18', 'Bus 19'),\n",
       " (.::a415691b534547208aac295910b3b8cc::line 19, 'Bus 19', 'Bus 20'),\n",
       " (.::f18e572b0bb847c28b38bf174ee7a769::line 20, 'Bus 20', 'Bus 21'),\n",
       " (.::151c79af8dfb42d5999b20ae0d7e3550::line 21, 'Bus 21', 'Bus 22'),\n",
       " (.::245999a5263148688b6fcb184719c898::line 22, 'Bus 22', 'Bus 23'),\n",
       " (.::3ae3959c40204e55ac67a77fadca39c1::line 23, 'Bus 23', 'Bus 24'),\n",
       " (.::58c2a969819a403caa1ec45dbab70aa0::line 24, 'Bus 24', 'Bus 25'),\n",
       " (.::14baa4b97e3c477bb635a04eb798da2f::line 25, 'Bus 25', 'Bus 26'),\n",
       " (.::455ad9ec1bfd4531bbbd4478f30cfb5a::line 26, 'Bus 26', 'Bus 27'),\n",
       " (.::64047b23b25e4c1ebc798e1c431af84d::line 27, 'Bus 3', 'Bus 28'),\n",
       " (.::40e2772790994ea4ac1b9cd720fd507d::line 28, 'Bus 28', 'Bus 29'),\n",
       " (.::df881e6d108a4e0abc03ba269bb1ad15::line 29, 'Bus 29', 'Bus 30'),\n",
       " (.::5be333d079344e798bc0bec0a4cf314c::line 30, 'Bus 30', 'Bus 31'),\n",
       " (.::77e59ac924bb4d9aa3fb2d5d49b1e4fb::line 31, 'Bus 31', 'Bus 32'),\n",
       " (.::c688737b08d445fabc0ae2542e0b31ec::line 32, 'Bus 32', 'Bus 33'),\n",
       " (.::c7efb22ca23844a0a2f733cf156e2baf::line 33, 'Bus 33', 'Bus 34'),\n",
       " (.::ad708a3019c64527b3e8c2b10203ca82::line 34, 'Bus 34', 'Bus 35'),\n",
       " (.::4624bf171da6445ab4681d44bfcb3a82::line 35, 'Bus 3', 'Bus 36'),\n",
       " (.::33ce1dcad22d468d8689d503f9100d66::line 36, 'Bus 36', 'Bus 37'),\n",
       " (.::31906974df6c4c6c90b096d4b4cef905::line 37, 'Bus 37', 'Bus 38'),\n",
       " (.::5fb17e92208a44d68b42c5bd27caad7a::line 38, 'Bus 38', 'Bus 39'),\n",
       " (.::47608438524c441c82b1020591aa5839::line 39, 'Bus 39', 'Bus 40'),\n",
       " (.::3aab076f7e1c4b7aa76ab38c3227793e::line 40, 'Bus 40', 'Bus 41'),\n",
       " (.::827d704a6396497481a88ca7f0d1e84d::line 41, 'Bus 41', 'Bus 42'),\n",
       " (.::3de46a469a904532b898d403c81e7ae3::line 42, 'Bus 42', 'Bus 43'),\n",
       " (.::37c67c71effe49609be56bd7c842550d::line 43, 'Bus 43', 'Bus 44'),\n",
       " (.::d9e56a2c1bb84604b7298f345439c841::line 44, 'Bus 44', 'Bus 45'),\n",
       " (.::69699d7951584b36980a364c7e08efce::line 45, 'Bus 45', 'Bus 46'),\n",
       " (.::94a7c43aea3f4a4b9b2c6edf9f307904::line 46, 'Bus 4', 'Bus 47'),\n",
       " (.::e63549388c1f485598c06a6a00bd5388::line 47, 'Bus 47', 'Bus 48'),\n",
       " (.::697d83a0c3aa439eb8ad3b6150874429::line 48, 'Bus 48', 'Bus 49'),\n",
       " (.::aa518acec64748d88ce65bb73c21c1d6::line 49, 'Bus 49', 'Bus 50'),\n",
       " (.::831f56d714544c1499ae64a2c395fa29::line 50, 'Bus 8', 'Bus 51'),\n",
       " (.::2800515a56fe4cdc97170518f6bedd09::line 51, 'Bus 51', 'Bus 52'),\n",
       " (.::fd9aee64320a4245a64122bcfe8a12d8::line 52, 'Bus 9', 'Bus 53'),\n",
       " (.::29ba471d174f45738188449ecd2dc237::line 53, 'Bus 53', 'Bus 54'),\n",
       " (.::d77b4e10f78346d3899be50bc4c7ec86::line 54, 'Bus 54', 'Bus 55'),\n",
       " (.::0b506a4fa32c4eecabc43f669fd388bc::line 55, 'Bus 55', 'Bus 56'),\n",
       " (.::2b56b48946dc45e6b540bae875e39bfa::line 56, 'Bus 56', 'Bus 57'),\n",
       " (.::4f31b45a357a4d3ea0fff00a958d3f18::line 57, 'Bus 57', 'Bus 58'),\n",
       " (.::55890a95463b4966a75137a1c9d14b05::line 58, 'Bus 58', 'Bus 59'),\n",
       " (.::09c9c48e434f4ceeb5530149cf2353e4::line 59, 'Bus 59', 'Bus 60'),\n",
       " (.::508d2ec821224155861c07478ee4b91b::line 60, 'Bus 60', 'Bus 61'),\n",
       " (.::dd764c731c7c458c89e980a919e648fb::line 61, 'Bus 61', 'Bus 62'),\n",
       " (.::6a31612b11aa43d1be9f4ba30b0b95df::line 62, 'Bus 62', 'Bus 63'),\n",
       " (.::9313c517240747f8b5be0bdd001cad7d::line 63, 'Bus 63', 'Bus 64'),\n",
       " (.::ae5f1f2890a14956ba3800d110756385::line 64, 'Bus 64', 'Bus 65'),\n",
       " (.::bdefbf9453b14165a87620a63483970e::line 65, 'Bus 11', 'Bus 66'),\n",
       " (.::fbfa308f1a404fe5a41d2018fe4ccb1e::line 66, 'Bus 66', 'Bus 67'),\n",
       " (.::249f51fd4fc841eb921ba11f2e19c4b5::line 67, 'Bus 12', 'Bus 68'),\n",
       " (.::955c454d5ed9461dafb49faf220f7486::line 68, 'Bus 68', 'Bus 69'),\n",
       " (.::276e5f0814ca4022aa17d567d3acdbfc::line 69, 'Bus 11', 'Bus 43'),\n",
       " (.::0a64359d26e94897a764b12a82876b2c::line 70, 'Bus 13', 'Bus 21'),\n",
       " (.::0bc07dff2fa342c0960524635e0c85b7::line 71, 'Bus 15', 'Bus 46'),\n",
       " (.::6f931fc3c3a444bd8856eb446821594c::line 72, 'Bus 50', 'Bus 59'),\n",
       " (.::d38ba1fa5dc54c14932c500e755b6ab6::line 73, 'Bus 27', 'Bus 65')]"
      ]
     },
     "execution_count": 10,
     "metadata": {},
     "output_type": "execute_result"
    }
   ],
   "source": [
    "[(line, line.bus_from.name, line.bus_to.name) for line in gridGC69.lines]"
   ]
  },
  {
   "cell_type": "code",
   "execution_count": 11,
   "metadata": {},
   "outputs": [],
   "source": [
    "caseName = \"118 buses\"\n",
    "gridGC118 = FileOpen(\"D:\\\\15_Thesis-code\\\\02_DistributionNetworkOperationFramework\\\\03_NetworkExamples\\\\gridcal\\\\case118.m\").open()\n",
    "TieLinesName118 = ['1_2_1', '4_5_1', '3_12_1', '7_12_1', '13_15_1', '14_15_1', '12_16_1', '18_19_1', '19_20_1', '15_19_1', '29_31_1', '27_32_1', '15_33_1', '35_36_1', '39_40_1', '40_41_1', '40_42_1', '34_43_1', '46_47_1', '46_48_1', '47_49_1', '53_54_1', '54_55_1', '54_56_1', '55_56_1', '56_57_1', '56_58_1', '60_61_1', '60_62_1', '61_62_1', '63_64_1', '62_67_1', '65_68_1', '24_70_1', '24_72_1', '70_74_1', '70_75_1', '75_77_1', '78_79_1', '68_81_1', '84_85_1', '85_88_1', '90_91_1', '93_94_1', '82_96_1', '94_96_1', '94_100_1', '95_96_1', '96_97_1', '98_100_1', '99_100_1', '100_101_1', '103_104_1', '104_105_1', '105_106_1', '106_107_1', '108_109_1', '17_113_1', '114_115_1', '76_118_1', '30_17_1', '64_61_1']\n",
    "TieLinesID118=GC_utils.GC_Line_Name2idtag_array(gridGC118, TieLinesName118)"
   ]
  },
  {
   "cell_type": "code",
   "execution_count": null,
   "metadata": {},
   "outputs": [],
   "source": []
  },
  {
   "cell_type": "code",
   "execution_count": 12,
   "metadata": {},
   "outputs": [],
   "source": [
    "#Creation of the DNR instances for each grid\n",
    "dnr33 = GC_DistributionNetworkReconfiguration.DistributionNetworkReconfiguration(gridGC33, verbose_logging=logging.ERROR)\n",
    "dnr118 = GC_DistributionNetworkReconfiguration.DistributionNetworkReconfiguration(gridGC118, verbose_logging=logging.ERROR)"
   ]
  },
  {
   "cell_type": "code",
   "execution_count": 13,
   "metadata": {},
   "outputs": [
    {
     "name": "stdout",
     "output_type": "stream",
     "text": [
      "The 33 buses cases is loaded and with all lines connected it has 5 loops\n",
      "The 33 buses cases is loaded and with tie lines disconnected it has 0 loops\n"
     ]
    }
   ],
   "source": [
    "GC_utils.NetworkReconfiguration(gridGC33, all=True, value_all=True)\n",
    "print(f\"The 33 buses cases is loaded and with all lines connected it has {len(GC_utils.SearchLoopsLines(gridGC33))} loops\")\n",
    "GC_utils.NetworkReconfiguration(gridGC33, all=True, selected_configuration=TieLinesID33, value_all=True, value_configuration=False)\n",
    "print(f\"The 33 buses cases is loaded and with tie lines disconnected it has {len(GC_utils.SearchLoopsLines(gridGC33))} loops\")"
   ]
  },
  {
   "cell_type": "code",
   "execution_count": 14,
   "metadata": {},
   "outputs": [
    {
     "name": "stdout",
     "output_type": "stream",
     "text": [
      "The 118 buses cases is loaded and with all lines connected it has 62 loops\n",
      "The 118 buses cases is loaded and with tie lines disconnected it has 0 loops\n"
     ]
    }
   ],
   "source": [
    "GC_utils.NetworkReconfiguration(gridGC118, all=True, value_all=True)\n",
    "print(f\"The 118 buses cases is loaded and with all lines connected it has {len(GC_utils.SearchLoopsLines(gridGC118))} loops\")\n",
    "GC_utils.NetworkReconfiguration(gridGC118, all=True, selected_configuration=TieLinesID118, value_all=True, value_configuration=False)\n",
    "print(f\"The 118 buses cases is loaded and with tie lines disconnected it has {len(GC_utils.SearchLoopsLines(gridGC118))} loops\")"
   ]
  },
  {
   "cell_type": "code",
   "execution_count": 15,
   "metadata": {},
   "outputs": [
    {
     "name": "stdout",
     "output_type": "stream",
     "text": [
      "losses: 0.2026771169692977\n",
      "radiality: (True, True, True)\n",
      "Loops:\n"
     ]
    }
   ],
   "source": [
    "## executes the power flow and radiality check for the network with disabled tie lines, as it has been configured in the previous step\n",
    "executeTest(dnr33, None, None)  "
   ]
  },
  {
   "cell_type": "code",
   "execution_count": 16,
   "metadata": {},
   "outputs": [
    {
     "name": "stdout",
     "output_type": "stream",
     "text": [
      "losses: 496.7852924832344\n",
      "radiality: (True, True, True)\n",
      "Loops:\n"
     ]
    }
   ],
   "source": [
    "## executes the power flow and radiality check for the network with disabled tie lines, as it has been configured in the previous step\n",
    "executeTest(dnr118, None, None)  "
   ]
  },
  {
   "cell_type": "code",
   "execution_count": 17,
   "metadata": {},
   "outputs": [
    {
     "name": "stdout",
     "output_type": "stream",
     "text": [
      "TieLines: The new optimal configuration losses:0.12329082969373946, radiality:(False, True, False), numPF:0 \n",
      "TieLines: The new optimal configuration losses:0.2026771169692977, radiality:(True, True, True), numPF:0 \n"
     ]
    }
   ],
   "source": [
    "GC_utils.NetworkReconfiguration(dnr33.grid, all=True, value_all=True)\n",
    "_, loss = GC_utils.GC_PowerFlow(gridGC33, config=[])\n",
    "radiality = GC_utils.CheckRadialConnectedNetwork(gridGC33)\n",
    "print(f\"TieLines: The new optimal configuration losses:{loss}, radiality:{radiality}, numPF:{dnr33.NumPF} \") #is {GC_utils.GC_Line_idtag2name_array(gridGC, disabled_lines)}\" )\n",
    "\n",
    "_, loss = GC_utils.GC_PowerFlow(gridGC33, config=TieLinesID33)\n",
    "radiality = GC_utils.CheckRadialConnectedNetwork(gridGC33)\n",
    "print(f\"TieLines: The new optimal configuration losses:{loss}, radiality:{radiality}, numPF:{dnr33.NumPF} \") #is {GC_utils.GC_Line_idtag2name_array(gridGC, disabled_lines)}\" )\n"
   ]
  },
  {
   "cell_type": "code",
   "execution_count": 18,
   "metadata": {},
   "outputs": [
    {
     "name": "stdout",
     "output_type": "stream",
     "text": [
      "TieLines: The new optimal configuration losses:129.7837122262946, radiality:(False, True, False), numPF:0 \n",
      "TieLines: The new optimal configuration losses:496.7852924832344, radiality:(True, True, True), numPF:0 \n"
     ]
    }
   ],
   "source": [
    "GC_utils.NetworkReconfiguration(dnr118.grid, all=True, value_all=True)\n",
    "_, loss = GC_utils.GC_PowerFlow(gridGC118, config=[])\n",
    "radiality = GC_utils.CheckRadialConnectedNetwork(gridGC118)\n",
    "print(f\"TieLines: The new optimal configuration losses:{loss}, radiality:{radiality}, numPF:{dnr118.NumPF} \") #is {GC_utils.GC_Line_idtag2name_array(gridGC, disabled_lines)}\" )\n",
    "\n",
    "_, loss = GC_utils.GC_PowerFlow(gridGC118, config=TieLinesID118)\n",
    "radiality = GC_utils.CheckRadialConnectedNetwork(gridGC118)\n",
    "print(f\"TieLines: The new optimal configuration losses:{loss}, radiality:{radiality}, numPF:{dnr118.NumPF} \") #is {GC_utils.GC_Line_idtag2name_array(gridGC, disabled_lines)}\" )\n"
   ]
  },
  {
   "cell_type": "code",
   "execution_count": 19,
   "metadata": {},
   "outputs": [
    {
     "name": "stdout",
     "output_type": "stream",
     "text": [
      "33 buses case\n",
      "losses: 0.2026771169692977\n",
      "radiality: (True, True, True)\n",
      "Loops:\n",
      "118 buses case\n",
      "losses: 496.7852924832344\n",
      "radiality: (True, True, True)\n",
      "Loops:\n"
     ]
    }
   ],
   "source": [
    "## executes the power flow and radiality check for the original network with a random set of lines deactivated to achieve a radial network\n",
    "print(\"33 buses case\")\n",
    "executeTest(dnr33, None, TieLinesID33)  \n",
    "print(\"118 buses case\")\n",
    "executeTest(dnr118, None, TieLinesID118)  "
   ]
  },
  {
   "cell_type": "code",
   "execution_count": 20,
   "metadata": {},
   "outputs": [
    {
     "name": "stdout",
     "output_type": "stream",
     "text": [
      "33 buses case\n",
      "DNR solution by  Merlin : ['7_8_1', '14_15_1', '28_29_1', '12_22_1', '18_33_1']\n",
      "Number of executed Power Flows: 20\n",
      "losses: 0.15237057030557727\n",
      "radiality: (True, True, True)\n",
      "Loops:\n",
      "118 buses case\n",
      "DNR solution by  Merlin : ['1_2_1', '5_6_1', '4_11_1', '5_11_1', '11_12_1', '3_12_1', '15_17_1', '16_17_1', '17_18_1', '15_19_1', '25_27_1', '26_30_1', '29_31_1', '23_32_1', '35_37_1', '34_37_1', '39_40_1', '41_42_1', '46_47_1', '42_49_1', '45_49_1', '55_56_1', '56_57_1', '56_58_1', '56_59_1', '55_59_1', '60_61_1', '60_62_1', '63_64_1', '38_65_1', '64_65_1', '49_66_1', '49_66_1', '62_66_1', '66_67_1', '47_69_1', '49_69_1', '69_70_1', '71_72_1', '70_75_1', '69_75_1', '77_80_1', '79_80_1', '68_81_1', '89_90_1', '89_90_1', '89_92_1', '89_92_1', '93_94_1', '82_96_1', '94_96_1', '94_100_1', '95_96_1', '96_97_1', '92_102_1', '103_104_1', '105_106_1', '105_108_1', '106_107_1', '17_113_1', '114_115_1', '75_118_1']\n",
      "Number of executed Power Flows: 119\n",
      "losses: 5691.864501965072\n",
      "radiality: (False, True, False)\n",
      "Loops:\n",
      "['83_84_1', '83_85_1', '84_85_1']\n",
      "['85_88_1', '85_89_1', '88_89_1']\n",
      "['80_98_1', '80_99_1', '98_100_1', '99_100_1']\n",
      "['100_103_1', '100_104_1', '103_105_1', '104_105_1']\n",
      "['54_56_1', '54_59_1', '56_59_1', '56_59_1']\n",
      "['49_51_1', '49_54_1', '49_54_1', '51_52_1', '52_53_1', '53_54_1']\n"
     ]
    }
   ],
   "source": [
    "#Executes the DNR algorithm by using the Merlin method to find the optimal configuration of the distribution network\n",
    "print(\"33 buses case\")\n",
    "executeTest(dnr33, 'Merlin', TieLinesID33)  \n",
    "print(\"118 buses case\")\n",
    "executeTest(dnr118, 'Merlin', TieLinesID118) "
   ]
  },
  {
   "cell_type": "code",
   "execution_count": 21,
   "metadata": {},
   "outputs": [
    {
     "name": "stdout",
     "output_type": "stream",
     "text": [
      "33 buses case\n",
      "DNR solution by  Baran : ['21_8_1', '9_15_1', '7_8_1', '18_33_1', '25_29_1']\n",
      "Number of executed Power Flows: 8\n",
      "losses: 0.15652933737440788\n",
      "radiality: (True, True, True)\n",
      "Loops:\n",
      "118 buses case\n",
      "DNR solution by  Baran : ['1_2_1', '4_5_1', '3_12_1', '7_12_1', '13_15_1', '14_15_1', '12_16_1', '18_19_1', '19_20_1', '15_19_1', '29_31_1', '27_32_1', '15_33_1', '35_36_1', '39_40_1', '40_41_1', '40_42_1', '34_43_1', '46_47_1', '46_48_1', '47_49_1', '53_54_1', '54_55_1', '54_56_1', '55_56_1', '56_57_1', '56_58_1', '60_61_1', '60_62_1', '61_62_1', '63_64_1', '62_67_1', '65_68_1', '24_70_1', '24_72_1', '70_74_1', '70_75_1', '75_77_1', '78_79_1', '68_81_1', '84_85_1', '85_88_1', '90_91_1', '93_94_1', '82_96_1', '94_96_1', '94_100_1', '95_96_1', '96_97_1', '98_100_1', '99_100_1', '100_101_1', '103_104_1', '104_105_1', '105_106_1', '106_107_1', '108_109_1', '17_113_1', '114_115_1', '76_118_1', '30_17_1', '64_61_1']\n",
      "Number of executed Power Flows: 3\n",
      "losses: 496.7852924832344\n",
      "radiality: (True, True, True)\n",
      "Loops:\n"
     ]
    }
   ],
   "source": [
    "#Executes the DNR algorithm by using the Baran method to find the optimal configuration of the distribution network\n",
    "print(\"33 buses case\")\n",
    "executeTest(dnr33, 'Baran', TieLinesID33)  \n",
    "print(\"118 buses case\")\n",
    "executeTest(dnr118, 'Baran', TieLinesID118) "
   ]
  },
  {
   "cell_type": "code",
   "execution_count": 22,
   "metadata": {},
   "outputs": [
    {
     "name": "stdout",
     "output_type": "stream",
     "text": [
      "33 buses case\n",
      "DNR solution by  Salkuti : ['7_8_1', '14_15_1', '11_12_1', '32_33_1', '28_29_1']\n",
      "Number of executed Power Flows: 10\n",
      "losses: 0.14163107972388245\n",
      "radiality: (True, True, True)\n",
      "Loops:\n",
      "118 buses case\n",
      "DNR solution by  Salkuti : ['1_3_1', '4_11_1', '3_5_1', '6_7_1', '11_13_1', '15_17_1', '16_17_1', '19_34_1', '20_21_1', '18_19_1', '28_29_1', '23_32_1', '14_15_1', '35_37_1', '37_39_1', '41_42_1', '37_40_1', '43_44_1', '45_46_1', '46_47_1', '47_69_1', '52_53_1', '55_59_1', '54_56_1', '54_55_1', '56_57_1', '56_58_1', '59_60_1', '60_61_1', '59_61_1', '63_64_1', '62_66_1', '65_68_1', '69_70_1', '71_72_1', '74_75_1', '69_75_1', '70_75_1', '77_78_1', '68_81_1', '83_84_1', '85_89_1', '91_92_1', '92_94_1', '77_82_1', '93_94_1', '94_96_1', '94_95_1', '80_96_1', '92_100_1', '80_99_1', '101_102_1', '100_104_1', '103_105_1', '100_106_1', '105_106_1', '105_108_1', '17_31_1', '27_115_1', '75_118_1', '30_17_1', '64_61_1']\n",
      "Number of executed Power Flows: 143\n",
      "losses: 613.2675333259904\n",
      "radiality: (True, True, True)\n",
      "Loops:\n"
     ]
    }
   ],
   "source": [
    "#Executes the DNR algorithm by using the Salkuti method to find the optimal configuration of the distribution network\n",
    "print(\"33 buses case\")\n",
    "executeTest(dnr33, 'Salkuti', TieLinesID33)  \n",
    "print(\"118 buses case\")\n",
    "executeTest(dnr118, 'Salkuti', TieLinesID118) "
   ]
  },
  {
   "cell_type": "code",
   "execution_count": 23,
   "metadata": {},
   "outputs": [
    {
     "name": "stdout",
     "output_type": "stream",
     "text": [
      "33 buses case\n",
      "DNR solution by  MSTgreedy : ['6_7_1', '10_11_1', '14_15_1', '6_26_1', '32_33_1']\n",
      "Number of executed Power Flows: 1\n",
      "losses: 0.16216538274100445\n",
      "radiality: (True, True, True)\n",
      "Loops:\n",
      "118 buses case\n",
      "DNR solution by  MSTgreedy : ['1_2_1', '4_5_1', '3_12_1', '7_12_1', '13_15_1', '14_15_1', '12_16_1', '18_19_1', '19_20_1', '15_19_1', '29_31_1', '27_32_1', '15_33_1', '35_36_1', '39_40_1', '40_41_1', '40_42_1', '34_43_1', '46_47_1', '46_48_1', '47_49_1', '53_54_1', '54_55_1', '54_56_1', '55_56_1', '56_57_1', '56_58_1', '60_61_1', '60_62_1', '61_62_1', '63_64_1', '62_67_1', '65_68_1', '24_70_1', '24_72_1', '70_74_1', '70_75_1', '75_77_1', '78_79_1', '68_81_1', '84_85_1', '85_88_1', '90_91_1', '93_94_1', '82_96_1', '94_96_1', '94_100_1', '95_96_1', '96_97_1', '98_100_1', '99_100_1', '100_101_1', '103_104_1', '104_105_1', '105_106_1', '106_107_1', '108_109_1', '17_113_1', '114_115_1', '76_118_1', '30_17_1', '64_61_1']\n",
      "Number of executed Power Flows: 1\n",
      "losses: 496.7852924832344\n",
      "radiality: (True, True, True)\n",
      "Loops:\n"
     ]
    }
   ],
   "source": [
    "#Executes the DNR algorithm by using the MSTgreedy method to find the optimal configuration of the distribution network\n",
    "print(\"33 buses case\")\n",
    "executeTest(dnr33, 'MSTgreedy', TieLinesID33, randomMST=False, one=False, current_power=True, algorithm=\"prim\")\n",
    "print(\"118 buses case\")\n",
    "executeTest(dnr118, 'MSTgreedy', TieLinesID118, randomMST=False, one=False, current_power=True, algorithm=\"prim\") \n"
   ]
  },
  {
   "cell_type": "code",
   "execution_count": 24,
   "metadata": {},
   "outputs": [
    {
     "name": "stdout",
     "output_type": "stream",
     "text": [
      "33 buses case\n",
      "DNR solution by  Khalil : ['9_10_1', '17_18_1', '27_28_1', '4_5_1', '13_14_1']\n",
      "Number of executed Power Flows: 240\n",
      "losses: 0.17346076362266663\n",
      "radiality: (True, True, True)\n",
      "Loops:\n",
      "118 buses case can not be solved with our Khalil implementation, as it does not manage to create the initial population\n"
     ]
    }
   ],
   "source": [
    "#Executes the DNR algorithm by using the Khalil method to find the optimal configuration of the distribution network\n",
    "print(\"33 buses case\")\n",
    "executeTest(dnr33, method='Khalil', NumCandidates=10, fitness_ratio=1, loss_factor=0.02)\n",
    "print(\"118 buses case can not be solved with our Khalil implementation, as it does not manage to create the initial population\")\n",
    "#executeTest(dnr118, method='Khalil', NumCandidates=10, fitness_ratio=1, loss_factor=0.02)"
   ]
  },
  {
   "cell_type": "code",
   "execution_count": 25,
   "metadata": {},
   "outputs": [
    {
     "name": "stdout",
     "output_type": "stream",
     "text": [
      "33 buses case\n",
      "DNR solution by  Jakus : ['7_8_1', '10_11_1', '9_15_1', '18_33_1', '25_29_1']\n",
      "Number of executed Power Flows: 298\n",
      "losses: 0.14510836742474806\n",
      "radiality: (True, True, True)\n",
      "Loops:\n",
      "118 buses case\n",
      "DNR solution by  Jakus : ['1_2_1', '3_5_1', '4_11_1', '7_12_1', '13_15_1', '12_16_1', '15_19_1', '22_23_1', '28_29_1', '8_30_1', '23_32_1', '27_32_1', '15_33_1', '19_34_1', '35_36_1', '37_40_1', '30_38_1', '40_41_1', '40_42_1', '44_45_1', '46_47_1', '46_48_1', '47_49_1', '52_53_1', '54_55_1', '54_56_1', '56_57_1', '56_58_1', '55_59_1', '59_60_1', '60_61_1', '61_62_1', '63_64_1', '64_65_1', '62_66_1', '49_69_1', '24_70_1', '70_75_1', '74_75_1', '75_77_1', '78_79_1', '68_81_1', '84_85_1', '85_88_1', '90_91_1', '92_93_1', '94_95_1', '80_96_1', '82_96_1', '94_96_1', '94_100_1', '98_100_1', '99_100_1', '100_101_1', '103_104_1', '104_105_1', '105_106_1', '105_107_1', '108_109_1', '17_113_1', '114_115_1', '76_118_1']\n",
      "Number of executed Power Flows: 298\n",
      "losses: 268.1643316042296\n",
      "radiality: (True, True, True)\n",
      "Loops:\n"
     ]
    }
   ],
   "source": [
    "#Executes the DNR algorithm by using the Jakus method to find the optimal configuration of the distribution network\n",
    "print(\"33 buses case\")\n",
    "executeTest(dnr33, 'Jakus', TieLinesID=TieLinesID33, MutationProbability=0.4, PopulationSize=16, Niter=20, ElitePopulation=2, fitness_ratio=1, loss_factor=0.02)\n",
    "print(\"118 buses case\")\n",
    "executeTest(dnr118, 'Jakus', TieLinesID=TieLinesID118, MutationProbability=0.4, PopulationSize=16, Niter=20, ElitePopulation=2, fitness_ratio=1, loss_factor=0.02)"
   ]
  },
  {
   "cell_type": "code",
   "execution_count": 26,
   "metadata": {},
   "outputs": [],
   "source": [
    "## this method takes several hours to execute for the 33 buses case, finding more than 100K possible networks to be evaluated\n",
    "## the optimal radial network has the following lines disabled : \n",
    "## obtaining losses of 139 kW\n",
    "\n",
    "#The functions are commented to avoid its execution\n",
    "#executeTest(dnr33, 'Morton', TieLinesID=TieLinesID33)\n",
    "#executeTest(dnr118, 'Morton', TieLinesID=TieLinesID33)\n"
   ]
  },
  {
   "cell_type": "code",
   "execution_count": null,
   "metadata": {},
   "outputs": [],
   "source": [
    "#the Taylor method is failing and needs to be reviewed"
   ]
  },
  {
   "cell_type": "code",
   "execution_count": 31,
   "metadata": {},
   "outputs": [
    {
     "name": "stderr",
     "output_type": "stream",
     "text": [
      "2025-07-30 14:58:25 - pyomo.core - ERROR - Rule failed when generating expression for Constraint Constraint_5_Distflow with index 87:\n",
      "ValueError: Invalid constraint expression. The constraint expression resolved to a trivial Boolean (False) instead of a Pyomo object. Please modify your rule to return Constraint.Infeasible instead of False.\n",
      "\n",
      "Error thrown for Constraint 'Constraint_5_Distflow['87']'\n",
      "2025-07-30 14:58:25 - pyomo.core - ERROR - Constructing component 'Constraint_5_Distflow' from data=None failed:\n",
      "    ValueError: Invalid constraint expression. The constraint expression resolved to a trivial Boolean (False) instead of a Pyomo object. Please modify your rule to return Constraint.Infeasible instead of False.\n",
      "\n",
      "Error thrown for Constraint 'Constraint_5_Distflow['87']'\n"
     ]
    },
    {
     "name": "stdout",
     "output_type": "stream",
     "text": [
      "Taylor: The new optimal configuration losses:1.8328618489172303e-05, radiality:(False, True, False), numPF:298 \n"
     ]
    },
    {
     "ename": "ValueError",
     "evalue": "Invalid constraint expression. The constraint expression resolved to a trivial Boolean (False) instead of a Pyomo object. Please modify your rule to return Constraint.Infeasible instead of False.\n\nError thrown for Constraint 'Constraint_5_Distflow['87']'",
     "output_type": "error",
     "traceback": [
      "\u001b[31m---------------------------------------------------------------------------\u001b[39m",
      "\u001b[31mValueError\u001b[39m                                Traceback (most recent call last)",
      "\u001b[36mCell\u001b[39m\u001b[36m \u001b[39m\u001b[32mIn[31]\u001b[39m\u001b[32m, line 8\u001b[39m\n\u001b[32m      5\u001b[39m \u001b[38;5;28mprint\u001b[39m(\u001b[33mf\u001b[39m\u001b[33m\"\u001b[39m\u001b[33mTaylor: The new optimal configuration losses:\u001b[39m\u001b[38;5;132;01m{\u001b[39;00mloss\u001b[38;5;132;01m}\u001b[39;00m\u001b[33m, radiality:\u001b[39m\u001b[38;5;132;01m{\u001b[39;00mradiality\u001b[38;5;132;01m}\u001b[39;00m\u001b[33m, numPF:\u001b[39m\u001b[38;5;132;01m{\u001b[39;00mdnr33.NumPF\u001b[38;5;132;01m}\u001b[39;00m\u001b[33m \u001b[39m\u001b[33m\"\u001b[39m) \u001b[38;5;66;03m#is {GC_utils.GC_Line_idtag2name_array(gridGC, disabled_lines)}\" )\u001b[39;00m\n\u001b[32m      7\u001b[39m \u001b[38;5;66;03m#Taylor method \u001b[39;00m\n\u001b[32m----> \u001b[39m\u001b[32m8\u001b[39m disabled_lines = \u001b[43mdnr118\u001b[49m\u001b[43m.\u001b[49m\u001b[43mSolve\u001b[49m\u001b[43m(\u001b[49m\u001b[43mmethod\u001b[49m\u001b[43m=\u001b[49m\u001b[33;43m\"\u001b[39;49m\u001b[33;43mTaylor\u001b[39;49m\u001b[33;43m\"\u001b[39;49m\u001b[43m,\u001b[49m\u001b[43m \u001b[49m\u001b[43malgorithm\u001b[49m\u001b[43m=\u001b[49m\u001b[33;43m\"\u001b[39;49m\u001b[33;43mQP\u001b[39;49m\u001b[33;43m\"\u001b[39;49m\u001b[43m,\u001b[49m\u001b[43m \u001b[49m\u001b[43msolver\u001b[49m\u001b[43m=\u001b[49m\u001b[33;43m\"\u001b[39;49m\u001b[33;43mipopt\u001b[39;49m\u001b[33;43m\"\u001b[39;49m\u001b[43m,\u001b[49m\u001b[43m \u001b[49m\u001b[43mbigM\u001b[49m\u001b[43m=\u001b[49m\u001b[32;43m10e6\u001b[39;49m\u001b[43m,\u001b[49m\u001b[43m \u001b[49m\u001b[43mImax\u001b[49m\u001b[43m=\u001b[49m\u001b[32;43m10\u001b[39;49m\u001b[43m,\u001b[49m\u001b[43m \u001b[49m\u001b[43mvmin\u001b[49m\u001b[43m=\u001b[49m\u001b[32;43m0.8\u001b[39;49m\u001b[43m,\u001b[49m\u001b[43m \u001b[49m\u001b[43mvmax\u001b[49m\u001b[43m=\u001b[49m\u001b[32;43m1.2\u001b[39;49m\u001b[43m,\u001b[49m\u001b[43m \u001b[49m\u001b[43mTieLines\u001b[49m\u001b[43m=\u001b[49m\u001b[43mTieLinesID118\u001b[49m\u001b[43m)\u001b[49m\n\u001b[32m      9\u001b[39m _, loss = GC_utils.GC_PowerFlow(dnr118.grid, config=disabled_lines)\n\u001b[32m     10\u001b[39m radiality = GC_utils.CheckRadialConnectedNetwork(dnr118.grid)\n",
      "\u001b[36mFile \u001b[39m\u001b[32md:\\15_Thesis-code\\DNRlib\\src\\GC_DistributionNetworkReconfiguration.py:141\u001b[39m, in \u001b[36mDistributionNetworkReconfiguration.Solve\u001b[39m\u001b[34m(self, method, *args, **kwargs)\u001b[39m\n\u001b[32m    139\u001b[39m     \u001b[38;5;28;01mreturn\u001b[39;00m \u001b[38;5;28mself\u001b[39m._MSTgreedy(randomMST=kwargs[\u001b[33m'\u001b[39m\u001b[33mrandomMST\u001b[39m\u001b[33m'\u001b[39m], algorithm=kwargs[\u001b[33m'\u001b[39m\u001b[33malgorithm\u001b[39m\u001b[33m'\u001b[39m], one=kwargs[\u001b[33m'\u001b[39m\u001b[33mone\u001b[39m\u001b[33m'\u001b[39m], current_power=kwargs[\u001b[33m'\u001b[39m\u001b[33mcurrent_power\u001b[39m\u001b[33m'\u001b[39m])\n\u001b[32m    140\u001b[39m \u001b[38;5;28;01melif\u001b[39;00m method.lower() == \u001b[33m'\u001b[39m\u001b[33mtaylor\u001b[39m\u001b[33m'\u001b[39m:\n\u001b[32m--> \u001b[39m\u001b[32m141\u001b[39m     \u001b[38;5;28;01mreturn\u001b[39;00m \u001b[38;5;28;43mself\u001b[39;49m\u001b[43m.\u001b[49m\u001b[43m_Taylor\u001b[49m\u001b[43m(\u001b[49m\u001b[43malgorithm\u001b[49m\u001b[43m=\u001b[49m\u001b[43mkwargs\u001b[49m\u001b[43m[\u001b[49m\u001b[33;43m'\u001b[39;49m\u001b[33;43malgorithm\u001b[39;49m\u001b[33;43m'\u001b[39;49m\u001b[43m]\u001b[49m\u001b[43m,\u001b[49m\u001b[43m \u001b[49m\u001b[43msolver\u001b[49m\u001b[43m=\u001b[49m\u001b[43mkwargs\u001b[49m\u001b[43m[\u001b[49m\u001b[33;43m'\u001b[39;49m\u001b[33;43msolver\u001b[39;49m\u001b[33;43m'\u001b[39;49m\u001b[43m]\u001b[49m\u001b[43m,\u001b[49m\u001b[43m \u001b[49m\u001b[43mbigM\u001b[49m\u001b[43m=\u001b[49m\u001b[43mkwargs\u001b[49m\u001b[43m[\u001b[49m\u001b[33;43m'\u001b[39;49m\u001b[33;43mbigM\u001b[39;49m\u001b[33;43m'\u001b[39;49m\u001b[43m]\u001b[49m\u001b[43m,\u001b[49m\u001b[43m \u001b[49m\u001b[43mImax\u001b[49m\u001b[43m=\u001b[49m\u001b[43mkwargs\u001b[49m\u001b[43m[\u001b[49m\u001b[33;43m'\u001b[39;49m\u001b[33;43mImax\u001b[39;49m\u001b[33;43m'\u001b[39;49m\u001b[43m]\u001b[49m\u001b[43m,\u001b[49m\u001b[43m \u001b[49m\u001b[43mvmin\u001b[49m\u001b[43m=\u001b[49m\u001b[43mkwargs\u001b[49m\u001b[43m[\u001b[49m\u001b[33;43m'\u001b[39;49m\u001b[33;43mvmin\u001b[39;49m\u001b[33;43m'\u001b[39;49m\u001b[43m]\u001b[49m\u001b[43m,\u001b[49m\u001b[43m \u001b[49m\u001b[43mvmax\u001b[49m\u001b[43m=\u001b[49m\u001b[43mkwargs\u001b[49m\u001b[43m[\u001b[49m\u001b[33;43m'\u001b[39;49m\u001b[33;43mvmax\u001b[39;49m\u001b[33;43m'\u001b[39;49m\u001b[43m]\u001b[49m\u001b[43m,\u001b[49m\u001b[43m \u001b[49m\u001b[43mTieLines\u001b[49m\u001b[43m=\u001b[49m\u001b[43mkwargs\u001b[49m\u001b[43m[\u001b[49m\u001b[33;43m'\u001b[39;49m\u001b[33;43mTieLines\u001b[39;49m\u001b[33;43m'\u001b[39;49m\u001b[43m]\u001b[49m\u001b[43m)\u001b[49m\n\u001b[32m    142\u001b[39m \u001b[38;5;28;01melif\u001b[39;00m method.lower() == \u001b[33m'\u001b[39m\u001b[33mmorton\u001b[39m\u001b[33m'\u001b[39m:\n\u001b[32m    143\u001b[39m     \u001b[38;5;28;01mreturn\u001b[39;00m \u001b[38;5;28mself\u001b[39m._Morton2000(TieLines=kwargs[\u001b[33m'\u001b[39m\u001b[33mTieLines\u001b[39m\u001b[33m'\u001b[39m])\n",
      "\u001b[36mFile \u001b[39m\u001b[32md:\\15_Thesis-code\\DNRlib\\src\\GC_DistributionNetworkReconfiguration.py:99\u001b[39m, in \u001b[36mDistributionNetworkReconfiguration._Taylor\u001b[39m\u001b[34m(self, algorithm, solver, bigM, Imax, vmin, vmax, TieLines)\u001b[39m\n\u001b[32m     96\u001b[39m     \u001b[38;5;28mself\u001b[39m.grid.lines[idx].X = \u001b[38;5;28mself\u001b[39m.grid.lines[idx].X / \u001b[38;5;28mself\u001b[39m.Zbase\n\u001b[32m     98\u001b[39m micp = MICP_Pyomo(grid=\u001b[38;5;28mself\u001b[39m.grid, NumTieLines=\u001b[38;5;28mlen\u001b[39m(TieLines), algorithm=algorithm, bigM=bigM, Imax = Imax, vmin = vmin, vmax = vmax, verbose_logging=\u001b[38;5;28mself\u001b[39m.verbose_logging)\n\u001b[32m---> \u001b[39m\u001b[32m99\u001b[39m convergence, MICPBestConfiguration = \u001b[43mmicp\u001b[49m\u001b[43m.\u001b[49m\u001b[43mSolve\u001b[49m\u001b[43m(\u001b[49m\u001b[43msolver\u001b[49m\u001b[43m=\u001b[49m\u001b[43msolver\u001b[49m\u001b[43m)\u001b[49m\n\u001b[32m    101\u001b[39m \u001b[38;5;28;01mfor\u001b[39;00m idx, load \u001b[38;5;129;01min\u001b[39;00m \u001b[38;5;28menumerate\u001b[39m(\u001b[38;5;28mself\u001b[39m.grid.loads):\n\u001b[32m    102\u001b[39m     \u001b[38;5;28mself\u001b[39m.grid.loads[idx].P = \u001b[38;5;28mself\u001b[39m.grid.loads[idx].P * \u001b[38;5;28mself\u001b[39m.grid.Sbase\n",
      "\u001b[36mFile \u001b[39m\u001b[32md:\\15_Thesis-code\\DNRlib\\src\\GC_Taylor2012_pyomo.py:246\u001b[39m, in \u001b[36mMICP_Pyomo.Solve\u001b[39m\u001b[34m(self, solver)\u001b[39m\n\u001b[32m    244\u001b[39m logging.getLogger(\u001b[33m'\u001b[39m\u001b[33mmicp.py\u001b[39m\u001b[33m'\u001b[39m).setLevel(\u001b[38;5;28mself\u001b[39m.verbose)\n\u001b[32m    245\u001b[39m logging.getLogger(\u001b[33m'\u001b[39m\u001b[33mmicp.py\u001b[39m\u001b[33m'\u001b[39m).info(\u001b[33mf\u001b[39m\u001b[33m\"\u001b[39m\u001b[33mStart solving by MICP by \u001b[39m\u001b[38;5;132;01m{\u001b[39;00m\u001b[38;5;28mself\u001b[39m.method\u001b[38;5;132;01m}\u001b[39;00m\u001b[33m\"\u001b[39m)\n\u001b[32m--> \u001b[39m\u001b[32m246\u001b[39m \u001b[38;5;28;43mself\u001b[39;49m\u001b[43m.\u001b[49m\u001b[43mConstraintDefinition\u001b[49m\u001b[43m(\u001b[49m\u001b[43m)\u001b[49m\n\u001b[32m    247\u001b[39m \u001b[38;5;28mself\u001b[39m.model.obj = pyo.Objective(rule=\u001b[38;5;28mself\u001b[39m.TotalPower, sense=pyo.minimize)\n\u001b[32m    248\u001b[39m \u001b[38;5;28;01mif\u001b[39;00m (solver==\u001b[33m\"\u001b[39m\u001b[33mipopt\u001b[39m\u001b[33m\"\u001b[39m):\n",
      "\u001b[36mFile \u001b[39m\u001b[32md:\\15_Thesis-code\\DNRlib\\src\\GC_Taylor2012_pyomo.py:212\u001b[39m, in \u001b[36mMICP_Pyomo.ConstraintDefinition\u001b[39m\u001b[34m(self)\u001b[39m\n\u001b[32m    210\u001b[39m \u001b[38;5;28;01mif\u001b[39;00m \u001b[38;5;28mself\u001b[39m.method==\u001b[33m\"\u001b[39m\u001b[33mQP\u001b[39m\u001b[33m\"\u001b[39m:\n\u001b[32m    211\u001b[39m     logging.getLogger(\u001b[33m'\u001b[39m\u001b[33mmicp.py\u001b[39m\u001b[33m'\u001b[39m).debug(\u001b[33m\"\u001b[39m\u001b[33mConstraints for QP solver\u001b[39m\u001b[33m\"\u001b[39m)\n\u001b[32m--> \u001b[39m\u001b[32m212\u001b[39m     \u001b[38;5;28;43mself\u001b[39;49m\u001b[43m.\u001b[49m\u001b[43mmodel\u001b[49m\u001b[43m.\u001b[49m\u001b[43mConstraint_5_Distflow\u001b[49m = pyo.Constraint(\u001b[38;5;28mself\u001b[39m.BusesNoSubstations, rule=\u001b[38;5;28mself\u001b[39m.Constraint_5_Distflow)\n\u001b[32m    213\u001b[39m     \u001b[38;5;28mself\u001b[39m.model.Constraint_6_Distflow = pyo.Constraint(\u001b[38;5;28mself\u001b[39m.BusesNoSubstations, rule=\u001b[38;5;28mself\u001b[39m.Constraint_6_Distflow)\n\u001b[32m    215\u001b[39m \u001b[38;5;28mself\u001b[39m.model.Constraint_7_Distflow = pyo.Constraint(\u001b[38;5;28mself\u001b[39m.BusesSubstations, rule=\u001b[38;5;28mself\u001b[39m.Constraint_7_Distflow)\n",
      "\u001b[36mFile \u001b[39m\u001b[32md:\\DNRlib\\Lib\\site-packages\\pyomo\\core\\base\\block.py:571\u001b[39m, in \u001b[36mBlockData.__setattr__\u001b[39m\u001b[34m(self, name, val)\u001b[39m\n\u001b[32m    566\u001b[39m \u001b[38;5;28;01mif\u001b[39;00m name \u001b[38;5;129;01mnot\u001b[39;00m \u001b[38;5;129;01min\u001b[39;00m \u001b[38;5;28mself\u001b[39m.\u001b[34m__dict__\u001b[39m:\n\u001b[32m    567\u001b[39m     \u001b[38;5;28;01mif\u001b[39;00m \u001b[38;5;28misinstance\u001b[39m(val, Component):\n\u001b[32m    568\u001b[39m         \u001b[38;5;66;03m#\u001b[39;00m\n\u001b[32m    569\u001b[39m         \u001b[38;5;66;03m# Pyomo components are added with the add_component method.\u001b[39;00m\n\u001b[32m    570\u001b[39m         \u001b[38;5;66;03m#\u001b[39;00m\n\u001b[32m--> \u001b[39m\u001b[32m571\u001b[39m         \u001b[38;5;28;43mself\u001b[39;49m\u001b[43m.\u001b[49m\u001b[43madd_component\u001b[49m\u001b[43m(\u001b[49m\u001b[43mname\u001b[49m\u001b[43m,\u001b[49m\u001b[43m \u001b[49m\u001b[43mval\u001b[49m\u001b[43m)\u001b[49m\n\u001b[32m    572\u001b[39m     \u001b[38;5;28;01melse\u001b[39;00m:\n\u001b[32m    573\u001b[39m         \u001b[38;5;66;03m#\u001b[39;00m\n\u001b[32m    574\u001b[39m         \u001b[38;5;66;03m# Other Python objects are added with the standard __setattr__\u001b[39;00m\n\u001b[32m    575\u001b[39m         \u001b[38;5;66;03m# method.\u001b[39;00m\n\u001b[32m    576\u001b[39m         \u001b[38;5;66;03m#\u001b[39;00m\n\u001b[32m    577\u001b[39m         \u001b[38;5;28msuper\u001b[39m(BlockData, \u001b[38;5;28mself\u001b[39m).\u001b[34m__setattr__\u001b[39m(name, val)\n",
      "\u001b[36mFile \u001b[39m\u001b[32md:\\DNRlib\\Lib\\site-packages\\pyomo\\core\\base\\block.py:1101\u001b[39m, in \u001b[36mBlockData.add_component\u001b[39m\u001b[34m(self, name, val)\u001b[39m\n\u001b[32m   1093\u001b[39m     logger.debug(\n\u001b[32m   1094\u001b[39m         \u001b[33m\"\u001b[39m\u001b[33mConstructing \u001b[39m\u001b[38;5;132;01m%s\u001b[39;00m\u001b[33m \u001b[39m\u001b[33m'\u001b[39m\u001b[38;5;132;01m%s\u001b[39;00m\u001b[33m'\u001b[39m\u001b[33m on \u001b[39m\u001b[38;5;132;01m%s\u001b[39;00m\u001b[33m from data=\u001b[39m\u001b[38;5;132;01m%s\u001b[39;00m\u001b[33m\"\u001b[39m,\n\u001b[32m   1095\u001b[39m         val.\u001b[34m__class__\u001b[39m.\u001b[34m__name__\u001b[39m,\n\u001b[32m   (...)\u001b[39m\u001b[32m   1098\u001b[39m         \u001b[38;5;28mstr\u001b[39m(data),\n\u001b[32m   1099\u001b[39m     )\n\u001b[32m   1100\u001b[39m \u001b[38;5;28;01mtry\u001b[39;00m:\n\u001b[32m-> \u001b[39m\u001b[32m1101\u001b[39m     \u001b[43mval\u001b[49m\u001b[43m.\u001b[49m\u001b[43mconstruct\u001b[49m\u001b[43m(\u001b[49m\u001b[43mdata\u001b[49m\u001b[43m)\u001b[49m\n\u001b[32m   1102\u001b[39m \u001b[38;5;28;01mexcept\u001b[39;00m:\n\u001b[32m   1103\u001b[39m     err = sys.exc_info()[\u001b[32m1\u001b[39m]\n",
      "\u001b[36mFile \u001b[39m\u001b[32md:\\DNRlib\\Lib\\site-packages\\pyomo\\core\\base\\constraint.py:722\u001b[39m, in \u001b[36mConstraint.construct\u001b[39m\u001b[34m(self, data)\u001b[39m\n\u001b[32m    720\u001b[39m         \u001b[38;5;66;03m# Bypass the index validation and create the member directly\u001b[39;00m\n\u001b[32m    721\u001b[39m         \u001b[38;5;28;01mfor\u001b[39;00m index \u001b[38;5;129;01min\u001b[39;00m \u001b[38;5;28mself\u001b[39m.index_set():\n\u001b[32m--> \u001b[39m\u001b[32m722\u001b[39m             \u001b[38;5;28;43mself\u001b[39;49m\u001b[43m.\u001b[49m\u001b[43m_setitem_when_not_present\u001b[49m\u001b[43m(\u001b[49m\u001b[43mindex\u001b[49m\u001b[43m,\u001b[49m\u001b[43m \u001b[49m\u001b[43mrule\u001b[49m\u001b[43m(\u001b[49m\u001b[43mblock\u001b[49m\u001b[43m,\u001b[49m\u001b[43m \u001b[49m\u001b[43mindex\u001b[49m\u001b[43m)\u001b[49m\u001b[43m)\u001b[49m\n\u001b[32m    723\u001b[39m \u001b[38;5;28;01mexcept\u001b[39;00m \u001b[38;5;167;01mException\u001b[39;00m:\n\u001b[32m    724\u001b[39m     err = sys.exc_info()[\u001b[32m1\u001b[39m]\n",
      "\u001b[36mFile \u001b[39m\u001b[32md:\\DNRlib\\Lib\\site-packages\\pyomo\\core\\base\\indexed_component.py:1111\u001b[39m, in \u001b[36mIndexedComponent._setitem_when_not_present\u001b[39m\u001b[34m(self, index, value)\u001b[39m\n\u001b[32m   1109\u001b[39m \u001b[38;5;28;01mtry\u001b[39;00m:\n\u001b[32m   1110\u001b[39m     \u001b[38;5;28;01mif\u001b[39;00m value \u001b[38;5;129;01mis\u001b[39;00m \u001b[38;5;129;01mnot\u001b[39;00m _NotSpecified:\n\u001b[32m-> \u001b[39m\u001b[32m1111\u001b[39m         \u001b[43mobj\u001b[49m\u001b[43m.\u001b[49m\u001b[43mset_value\u001b[49m\u001b[43m(\u001b[49m\u001b[43mvalue\u001b[49m\u001b[43m)\u001b[49m\n\u001b[32m   1112\u001b[39m \u001b[38;5;28;01mexcept\u001b[39;00m:\n\u001b[32m   1113\u001b[39m     \u001b[38;5;28mself\u001b[39m._data.pop(index, \u001b[38;5;28;01mNone\u001b[39;00m)\n",
      "\u001b[36mFile \u001b[39m\u001b[32md:\\DNRlib\\Lib\\site-packages\\pyomo\\core\\base\\constraint.py:469\u001b[39m, in \u001b[36mConstraintData.set_value\u001b[39m\u001b[34m(self, expr)\u001b[39m\n\u001b[32m    466\u001b[39m     \u001b[38;5;28;01mraise\u001b[39;00m \u001b[38;5;167;01mValueError\u001b[39;00m(_rule_returned_none_error % (\u001b[38;5;28mself\u001b[39m.name,))\n\u001b[32m    468\u001b[39m \u001b[38;5;28;01melif\u001b[39;00m expr.\u001b[34m__class__\u001b[39m \u001b[38;5;129;01mis\u001b[39;00m \u001b[38;5;28mbool\u001b[39m:\n\u001b[32m--> \u001b[39m\u001b[32m469\u001b[39m     \u001b[38;5;28;01mraise\u001b[39;00m \u001b[38;5;167;01mValueError\u001b[39;00m(\n\u001b[32m    470\u001b[39m         \u001b[33m\"\u001b[39m\u001b[33mInvalid constraint expression. The constraint \u001b[39m\u001b[33m\"\u001b[39m\n\u001b[32m    471\u001b[39m         \u001b[33m\"\u001b[39m\u001b[33mexpression resolved to a trivial Boolean (\u001b[39m\u001b[38;5;132;01m%s\u001b[39;00m\u001b[33m) \u001b[39m\u001b[33m\"\u001b[39m\n\u001b[32m    472\u001b[39m         \u001b[33m\"\u001b[39m\u001b[33minstead of a Pyomo object. Please modify your \u001b[39m\u001b[33m\"\u001b[39m\n\u001b[32m    473\u001b[39m         \u001b[33m\"\u001b[39m\u001b[33mrule to return Constraint.\u001b[39m\u001b[38;5;132;01m%s\u001b[39;00m\u001b[33m instead of \u001b[39m\u001b[38;5;132;01m%s\u001b[39;00m\u001b[33m.\u001b[39m\u001b[33m\"\u001b[39m\n\u001b[32m    474\u001b[39m         \u001b[33m\"\u001b[39m\u001b[38;5;130;01m\\n\u001b[39;00m\u001b[38;5;130;01m\\n\u001b[39;00m\u001b[33mError thrown for Constraint \u001b[39m\u001b[33m'\u001b[39m\u001b[38;5;132;01m%s\u001b[39;00m\u001b[33m'\u001b[39m\u001b[33m\"\u001b[39m\n\u001b[32m    475\u001b[39m         % (expr, \u001b[33m\"\u001b[39m\u001b[33mFeasible\u001b[39m\u001b[33m\"\u001b[39m \u001b[38;5;28;01mif\u001b[39;00m expr \u001b[38;5;28;01melse\u001b[39;00m \u001b[33m\"\u001b[39m\u001b[33mInfeasible\u001b[39m\u001b[33m\"\u001b[39m, expr, \u001b[38;5;28mself\u001b[39m.name)\n\u001b[32m    476\u001b[39m     )\n\u001b[32m    478\u001b[39m \u001b[38;5;28;01melse\u001b[39;00m:\n\u001b[32m    479\u001b[39m     \u001b[38;5;28;01mtry\u001b[39;00m:\n",
      "\u001b[31mValueError\u001b[39m: Invalid constraint expression. The constraint expression resolved to a trivial Boolean (False) instead of a Pyomo object. Please modify your rule to return Constraint.Infeasible instead of False.\n\nError thrown for Constraint 'Constraint_5_Distflow['87']'"
     ]
    }
   ],
   "source": [
    "## implementation of Taylor Mathematical Programming method is not working properly and needs to be completely revised\n",
    "disabled_lines = dnr33.Solve(method=\"Taylor\", algorithm=\"QP\", solver=\"ipopt\", bigM=10e6, Imax=10, vmin=0.8, vmax=1.2, TieLines=TieLinesID33)\n",
    "_, loss = GC_utils.GC_PowerFlow(dnr33.grid, config=disabled_lines)\n",
    "radiality = GC_utils.CheckRadialConnectedNetwork(dnr33.grid)\n",
    "print(f\"Taylor: The new optimal configuration losses:{loss}, radiality:{radiality}, numPF:{dnr33.NumPF} \") #is {GC_utils.GC_Line_idtag2name_array(gridGC, disabled_lines)}\" )\n",
    "\n",
    "#Taylor method \n",
    "disabled_lines = dnr118.Solve(method=\"Taylor\", algorithm=\"QP\", solver=\"ipopt\", bigM=10e6, Imax=10, vmin=0.8, vmax=1.2, TieLines=TieLinesID118)\n",
    "_, loss = GC_utils.GC_PowerFlow(dnr118.grid, config=disabled_lines)\n",
    "radiality = GC_utils.CheckRadialConnectedNetwork(dnr118.grid)\n",
    "print(f\"Taylor: The new optimal configuration losses:{loss}, radiality:{radiality}, numPF:{dnr118.NumPF} \") #is {GC_utils.GC_Line_idtag2name_array(gridGC, disabled_lines)}\" )\n"
   ]
  },
  {
   "cell_type": "code",
   "execution_count": 32,
   "metadata": {},
   "outputs": [
    {
     "name": "stderr",
     "output_type": "stream",
     "text": [
      "2025-07-30 14:58:30 - pyomo.core - ERROR - Rule failed when generating expression for Constraint Constraint_21_SOC with index 1:\n",
      "KeyError: \"Index '('2', '1')' is not valid for indexed component 'P_ij'\"\n",
      "2025-07-30 14:58:30 - pyomo.core - ERROR - Constructing component 'Constraint_21_SOC' from data=None failed:\n",
      "    KeyError: \"Index '('2', '1')' is not valid for indexed component 'P_ij'\"\n"
     ]
    },
    {
     "ename": "KeyError",
     "evalue": "\"Index '('2', '1')' is not valid for indexed component 'P_ij'\"",
     "output_type": "error",
     "traceback": [
      "\u001b[31m---------------------------------------------------------------------------\u001b[39m",
      "\u001b[31mKeyError\u001b[39m                                  Traceback (most recent call last)",
      "\u001b[36mCell\u001b[39m\u001b[36m \u001b[39m\u001b[32mIn[32]\u001b[39m\u001b[32m, line 2\u001b[39m\n\u001b[32m      1\u001b[39m \u001b[38;5;66;03m## implementation of Taylor Mathematical Programming method is not working properly and needs to be completely revised\u001b[39;00m\n\u001b[32m----> \u001b[39m\u001b[32m2\u001b[39m disabled_lines = \u001b[43mdnr33\u001b[49m\u001b[43m.\u001b[49m\u001b[43mSolve\u001b[49m\u001b[43m(\u001b[49m\u001b[43mmethod\u001b[49m\u001b[43m=\u001b[49m\u001b[33;43m\"\u001b[39;49m\u001b[33;43mTaylor\u001b[39;49m\u001b[33;43m\"\u001b[39;49m\u001b[43m,\u001b[49m\u001b[43m \u001b[49m\u001b[43malgorithm\u001b[49m\u001b[43m=\u001b[49m\u001b[33;43m\"\u001b[39;49m\u001b[33;43mSOC\u001b[39;49m\u001b[33;43m\"\u001b[39;49m\u001b[43m,\u001b[49m\u001b[43m \u001b[49m\u001b[43msolver\u001b[49m\u001b[43m=\u001b[49m\u001b[33;43m\"\u001b[39;49m\u001b[33;43mipopt\u001b[39;49m\u001b[33;43m\"\u001b[39;49m\u001b[43m,\u001b[49m\u001b[43m \u001b[49m\u001b[43mbigM\u001b[49m\u001b[43m=\u001b[49m\u001b[32;43m10e6\u001b[39;49m\u001b[43m,\u001b[49m\u001b[43m \u001b[49m\u001b[43mImax\u001b[49m\u001b[43m=\u001b[49m\u001b[32;43m10\u001b[39;49m\u001b[43m,\u001b[49m\u001b[43m \u001b[49m\u001b[43mvmin\u001b[49m\u001b[43m=\u001b[49m\u001b[32;43m0.8\u001b[39;49m\u001b[43m,\u001b[49m\u001b[43m \u001b[49m\u001b[43mvmax\u001b[49m\u001b[43m=\u001b[49m\u001b[32;43m1.2\u001b[39;49m\u001b[43m,\u001b[49m\u001b[43m \u001b[49m\u001b[43mTieLines\u001b[49m\u001b[43m=\u001b[49m\u001b[43mTieLinesID33\u001b[49m\u001b[43m)\u001b[49m\n\u001b[32m      3\u001b[39m _, loss = GC_utils.GC_PowerFlow(dnr33.grid, config=disabled_lines)\n\u001b[32m      4\u001b[39m radiality = GC_utils.CheckRadialConnectedNetwork(dnr33.grid)\n",
      "\u001b[36mFile \u001b[39m\u001b[32md:\\15_Thesis-code\\DNRlib\\src\\GC_DistributionNetworkReconfiguration.py:141\u001b[39m, in \u001b[36mDistributionNetworkReconfiguration.Solve\u001b[39m\u001b[34m(self, method, *args, **kwargs)\u001b[39m\n\u001b[32m    139\u001b[39m     \u001b[38;5;28;01mreturn\u001b[39;00m \u001b[38;5;28mself\u001b[39m._MSTgreedy(randomMST=kwargs[\u001b[33m'\u001b[39m\u001b[33mrandomMST\u001b[39m\u001b[33m'\u001b[39m], algorithm=kwargs[\u001b[33m'\u001b[39m\u001b[33malgorithm\u001b[39m\u001b[33m'\u001b[39m], one=kwargs[\u001b[33m'\u001b[39m\u001b[33mone\u001b[39m\u001b[33m'\u001b[39m], current_power=kwargs[\u001b[33m'\u001b[39m\u001b[33mcurrent_power\u001b[39m\u001b[33m'\u001b[39m])\n\u001b[32m    140\u001b[39m \u001b[38;5;28;01melif\u001b[39;00m method.lower() == \u001b[33m'\u001b[39m\u001b[33mtaylor\u001b[39m\u001b[33m'\u001b[39m:\n\u001b[32m--> \u001b[39m\u001b[32m141\u001b[39m     \u001b[38;5;28;01mreturn\u001b[39;00m \u001b[38;5;28;43mself\u001b[39;49m\u001b[43m.\u001b[49m\u001b[43m_Taylor\u001b[49m\u001b[43m(\u001b[49m\u001b[43malgorithm\u001b[49m\u001b[43m=\u001b[49m\u001b[43mkwargs\u001b[49m\u001b[43m[\u001b[49m\u001b[33;43m'\u001b[39;49m\u001b[33;43malgorithm\u001b[39;49m\u001b[33;43m'\u001b[39;49m\u001b[43m]\u001b[49m\u001b[43m,\u001b[49m\u001b[43m \u001b[49m\u001b[43msolver\u001b[49m\u001b[43m=\u001b[49m\u001b[43mkwargs\u001b[49m\u001b[43m[\u001b[49m\u001b[33;43m'\u001b[39;49m\u001b[33;43msolver\u001b[39;49m\u001b[33;43m'\u001b[39;49m\u001b[43m]\u001b[49m\u001b[43m,\u001b[49m\u001b[43m \u001b[49m\u001b[43mbigM\u001b[49m\u001b[43m=\u001b[49m\u001b[43mkwargs\u001b[49m\u001b[43m[\u001b[49m\u001b[33;43m'\u001b[39;49m\u001b[33;43mbigM\u001b[39;49m\u001b[33;43m'\u001b[39;49m\u001b[43m]\u001b[49m\u001b[43m,\u001b[49m\u001b[43m \u001b[49m\u001b[43mImax\u001b[49m\u001b[43m=\u001b[49m\u001b[43mkwargs\u001b[49m\u001b[43m[\u001b[49m\u001b[33;43m'\u001b[39;49m\u001b[33;43mImax\u001b[39;49m\u001b[33;43m'\u001b[39;49m\u001b[43m]\u001b[49m\u001b[43m,\u001b[49m\u001b[43m \u001b[49m\u001b[43mvmin\u001b[49m\u001b[43m=\u001b[49m\u001b[43mkwargs\u001b[49m\u001b[43m[\u001b[49m\u001b[33;43m'\u001b[39;49m\u001b[33;43mvmin\u001b[39;49m\u001b[33;43m'\u001b[39;49m\u001b[43m]\u001b[49m\u001b[43m,\u001b[49m\u001b[43m \u001b[49m\u001b[43mvmax\u001b[49m\u001b[43m=\u001b[49m\u001b[43mkwargs\u001b[49m\u001b[43m[\u001b[49m\u001b[33;43m'\u001b[39;49m\u001b[33;43mvmax\u001b[39;49m\u001b[33;43m'\u001b[39;49m\u001b[43m]\u001b[49m\u001b[43m,\u001b[49m\u001b[43m \u001b[49m\u001b[43mTieLines\u001b[49m\u001b[43m=\u001b[49m\u001b[43mkwargs\u001b[49m\u001b[43m[\u001b[49m\u001b[33;43m'\u001b[39;49m\u001b[33;43mTieLines\u001b[39;49m\u001b[33;43m'\u001b[39;49m\u001b[43m]\u001b[49m\u001b[43m)\u001b[49m\n\u001b[32m    142\u001b[39m \u001b[38;5;28;01melif\u001b[39;00m method.lower() == \u001b[33m'\u001b[39m\u001b[33mmorton\u001b[39m\u001b[33m'\u001b[39m:\n\u001b[32m    143\u001b[39m     \u001b[38;5;28;01mreturn\u001b[39;00m \u001b[38;5;28mself\u001b[39m._Morton2000(TieLines=kwargs[\u001b[33m'\u001b[39m\u001b[33mTieLines\u001b[39m\u001b[33m'\u001b[39m])\n",
      "\u001b[36mFile \u001b[39m\u001b[32md:\\15_Thesis-code\\DNRlib\\src\\GC_DistributionNetworkReconfiguration.py:99\u001b[39m, in \u001b[36mDistributionNetworkReconfiguration._Taylor\u001b[39m\u001b[34m(self, algorithm, solver, bigM, Imax, vmin, vmax, TieLines)\u001b[39m\n\u001b[32m     96\u001b[39m     \u001b[38;5;28mself\u001b[39m.grid.lines[idx].X = \u001b[38;5;28mself\u001b[39m.grid.lines[idx].X / \u001b[38;5;28mself\u001b[39m.Zbase\n\u001b[32m     98\u001b[39m micp = MICP_Pyomo(grid=\u001b[38;5;28mself\u001b[39m.grid, NumTieLines=\u001b[38;5;28mlen\u001b[39m(TieLines), algorithm=algorithm, bigM=bigM, Imax = Imax, vmin = vmin, vmax = vmax, verbose_logging=\u001b[38;5;28mself\u001b[39m.verbose_logging)\n\u001b[32m---> \u001b[39m\u001b[32m99\u001b[39m convergence, MICPBestConfiguration = \u001b[43mmicp\u001b[49m\u001b[43m.\u001b[49m\u001b[43mSolve\u001b[49m\u001b[43m(\u001b[49m\u001b[43msolver\u001b[49m\u001b[43m=\u001b[49m\u001b[43msolver\u001b[49m\u001b[43m)\u001b[49m\n\u001b[32m    101\u001b[39m \u001b[38;5;28;01mfor\u001b[39;00m idx, load \u001b[38;5;129;01min\u001b[39;00m \u001b[38;5;28menumerate\u001b[39m(\u001b[38;5;28mself\u001b[39m.grid.loads):\n\u001b[32m    102\u001b[39m     \u001b[38;5;28mself\u001b[39m.grid.loads[idx].P = \u001b[38;5;28mself\u001b[39m.grid.loads[idx].P * \u001b[38;5;28mself\u001b[39m.grid.Sbase\n",
      "\u001b[36mFile \u001b[39m\u001b[32md:\\15_Thesis-code\\DNRlib\\src\\GC_Taylor2012_pyomo.py:246\u001b[39m, in \u001b[36mMICP_Pyomo.Solve\u001b[39m\u001b[34m(self, solver)\u001b[39m\n\u001b[32m    244\u001b[39m logging.getLogger(\u001b[33m'\u001b[39m\u001b[33mmicp.py\u001b[39m\u001b[33m'\u001b[39m).setLevel(\u001b[38;5;28mself\u001b[39m.verbose)\n\u001b[32m    245\u001b[39m logging.getLogger(\u001b[33m'\u001b[39m\u001b[33mmicp.py\u001b[39m\u001b[33m'\u001b[39m).info(\u001b[33mf\u001b[39m\u001b[33m\"\u001b[39m\u001b[33mStart solving by MICP by \u001b[39m\u001b[38;5;132;01m{\u001b[39;00m\u001b[38;5;28mself\u001b[39m.method\u001b[38;5;132;01m}\u001b[39;00m\u001b[33m\"\u001b[39m)\n\u001b[32m--> \u001b[39m\u001b[32m246\u001b[39m \u001b[38;5;28;43mself\u001b[39;49m\u001b[43m.\u001b[49m\u001b[43mConstraintDefinition\u001b[49m\u001b[43m(\u001b[49m\u001b[43m)\u001b[49m\n\u001b[32m    247\u001b[39m \u001b[38;5;28mself\u001b[39m.model.obj = pyo.Objective(rule=\u001b[38;5;28mself\u001b[39m.TotalPower, sense=pyo.minimize)\n\u001b[32m    248\u001b[39m \u001b[38;5;28;01mif\u001b[39;00m (solver==\u001b[33m\"\u001b[39m\u001b[33mipopt\u001b[39m\u001b[33m\"\u001b[39m):\n",
      "\u001b[36mFile \u001b[39m\u001b[32md:\\15_Thesis-code\\DNRlib\\src\\GC_Taylor2012_pyomo.py:230\u001b[39m, in \u001b[36mMICP_Pyomo.ConstraintDefinition\u001b[39m\u001b[34m(self)\u001b[39m\n\u001b[32m    228\u001b[39m \u001b[38;5;28;01mif\u001b[39;00m \u001b[38;5;28mself\u001b[39m.method==\u001b[33m\"\u001b[39m\u001b[33mSOC\u001b[39m\u001b[33m\"\u001b[39m:\n\u001b[32m    229\u001b[39m     logging.getLogger(\u001b[33m'\u001b[39m\u001b[33mmicp.py\u001b[39m\u001b[33m'\u001b[39m).debug(\u001b[33m\"\u001b[39m\u001b[33mConstraints for SOC solver\u001b[39m\u001b[33m\"\u001b[39m)\n\u001b[32m--> \u001b[39m\u001b[32m230\u001b[39m     \u001b[38;5;28;43mself\u001b[39;49m\u001b[43m.\u001b[49m\u001b[43mmodel\u001b[49m\u001b[43m.\u001b[49m\u001b[43mConstraint_21_SOC\u001b[49m = pyo.Constraint(\u001b[38;5;28mself\u001b[39m.BusesAll, rule=\u001b[38;5;28mself\u001b[39m.Constraint_21_SOC)\n\u001b[32m    231\u001b[39m     \u001b[38;5;28mself\u001b[39m.model.Constraint_22_SOC = pyo.Constraint(\u001b[38;5;28mself\u001b[39m.BusesAll, rule=\u001b[38;5;28mself\u001b[39m.Constraint_22_SOC)\n\u001b[32m    232\u001b[39m     \u001b[38;5;28mself\u001b[39m.model.Constraint_23_SOC = pyo.Constraint(\u001b[38;5;28mself\u001b[39m.Lines_ij, rule=\u001b[38;5;28mself\u001b[39m.Constraint_23_SOC)\n",
      "\u001b[36mFile \u001b[39m\u001b[32md:\\DNRlib\\Lib\\site-packages\\pyomo\\core\\base\\block.py:571\u001b[39m, in \u001b[36mBlockData.__setattr__\u001b[39m\u001b[34m(self, name, val)\u001b[39m\n\u001b[32m    566\u001b[39m \u001b[38;5;28;01mif\u001b[39;00m name \u001b[38;5;129;01mnot\u001b[39;00m \u001b[38;5;129;01min\u001b[39;00m \u001b[38;5;28mself\u001b[39m.\u001b[34m__dict__\u001b[39m:\n\u001b[32m    567\u001b[39m     \u001b[38;5;28;01mif\u001b[39;00m \u001b[38;5;28misinstance\u001b[39m(val, Component):\n\u001b[32m    568\u001b[39m         \u001b[38;5;66;03m#\u001b[39;00m\n\u001b[32m    569\u001b[39m         \u001b[38;5;66;03m# Pyomo components are added with the add_component method.\u001b[39;00m\n\u001b[32m    570\u001b[39m         \u001b[38;5;66;03m#\u001b[39;00m\n\u001b[32m--> \u001b[39m\u001b[32m571\u001b[39m         \u001b[38;5;28;43mself\u001b[39;49m\u001b[43m.\u001b[49m\u001b[43madd_component\u001b[49m\u001b[43m(\u001b[49m\u001b[43mname\u001b[49m\u001b[43m,\u001b[49m\u001b[43m \u001b[49m\u001b[43mval\u001b[49m\u001b[43m)\u001b[49m\n\u001b[32m    572\u001b[39m     \u001b[38;5;28;01melse\u001b[39;00m:\n\u001b[32m    573\u001b[39m         \u001b[38;5;66;03m#\u001b[39;00m\n\u001b[32m    574\u001b[39m         \u001b[38;5;66;03m# Other Python objects are added with the standard __setattr__\u001b[39;00m\n\u001b[32m    575\u001b[39m         \u001b[38;5;66;03m# method.\u001b[39;00m\n\u001b[32m    576\u001b[39m         \u001b[38;5;66;03m#\u001b[39;00m\n\u001b[32m    577\u001b[39m         \u001b[38;5;28msuper\u001b[39m(BlockData, \u001b[38;5;28mself\u001b[39m).\u001b[34m__setattr__\u001b[39m(name, val)\n",
      "\u001b[36mFile \u001b[39m\u001b[32md:\\DNRlib\\Lib\\site-packages\\pyomo\\core\\base\\block.py:1101\u001b[39m, in \u001b[36mBlockData.add_component\u001b[39m\u001b[34m(self, name, val)\u001b[39m\n\u001b[32m   1093\u001b[39m     logger.debug(\n\u001b[32m   1094\u001b[39m         \u001b[33m\"\u001b[39m\u001b[33mConstructing \u001b[39m\u001b[38;5;132;01m%s\u001b[39;00m\u001b[33m \u001b[39m\u001b[33m'\u001b[39m\u001b[38;5;132;01m%s\u001b[39;00m\u001b[33m'\u001b[39m\u001b[33m on \u001b[39m\u001b[38;5;132;01m%s\u001b[39;00m\u001b[33m from data=\u001b[39m\u001b[38;5;132;01m%s\u001b[39;00m\u001b[33m\"\u001b[39m,\n\u001b[32m   1095\u001b[39m         val.\u001b[34m__class__\u001b[39m.\u001b[34m__name__\u001b[39m,\n\u001b[32m   (...)\u001b[39m\u001b[32m   1098\u001b[39m         \u001b[38;5;28mstr\u001b[39m(data),\n\u001b[32m   1099\u001b[39m     )\n\u001b[32m   1100\u001b[39m \u001b[38;5;28;01mtry\u001b[39;00m:\n\u001b[32m-> \u001b[39m\u001b[32m1101\u001b[39m     \u001b[43mval\u001b[49m\u001b[43m.\u001b[49m\u001b[43mconstruct\u001b[49m\u001b[43m(\u001b[49m\u001b[43mdata\u001b[49m\u001b[43m)\u001b[49m\n\u001b[32m   1102\u001b[39m \u001b[38;5;28;01mexcept\u001b[39;00m:\n\u001b[32m   1103\u001b[39m     err = sys.exc_info()[\u001b[32m1\u001b[39m]\n",
      "\u001b[36mFile \u001b[39m\u001b[32md:\\DNRlib\\Lib\\site-packages\\pyomo\\core\\base\\constraint.py:722\u001b[39m, in \u001b[36mConstraint.construct\u001b[39m\u001b[34m(self, data)\u001b[39m\n\u001b[32m    720\u001b[39m         \u001b[38;5;66;03m# Bypass the index validation and create the member directly\u001b[39;00m\n\u001b[32m    721\u001b[39m         \u001b[38;5;28;01mfor\u001b[39;00m index \u001b[38;5;129;01min\u001b[39;00m \u001b[38;5;28mself\u001b[39m.index_set():\n\u001b[32m--> \u001b[39m\u001b[32m722\u001b[39m             \u001b[38;5;28mself\u001b[39m._setitem_when_not_present(index, \u001b[43mrule\u001b[49m\u001b[43m(\u001b[49m\u001b[43mblock\u001b[49m\u001b[43m,\u001b[49m\u001b[43m \u001b[49m\u001b[43mindex\u001b[49m\u001b[43m)\u001b[49m)\n\u001b[32m    723\u001b[39m \u001b[38;5;28;01mexcept\u001b[39;00m \u001b[38;5;167;01mException\u001b[39;00m:\n\u001b[32m    724\u001b[39m     err = sys.exc_info()[\u001b[32m1\u001b[39m]\n",
      "\u001b[36mFile \u001b[39m\u001b[32md:\\DNRlib\\Lib\\site-packages\\pyomo\\core\\base\\initializer.py:351\u001b[39m, in \u001b[36mIndexedCallInitializer.__call__\u001b[39m\u001b[34m(self, parent, idx)\u001b[39m\n\u001b[32m    349\u001b[39m     \u001b[38;5;28;01mreturn\u001b[39;00m \u001b[38;5;28mself\u001b[39m._fcn(parent, *idx)\n\u001b[32m    350\u001b[39m \u001b[38;5;28;01melse\u001b[39;00m:\n\u001b[32m--> \u001b[39m\u001b[32m351\u001b[39m     \u001b[38;5;28;01mreturn\u001b[39;00m \u001b[38;5;28;43mself\u001b[39;49m\u001b[43m.\u001b[49m\u001b[43m_fcn\u001b[49m\u001b[43m(\u001b[49m\u001b[43mparent\u001b[49m\u001b[43m,\u001b[49m\u001b[43m \u001b[49m\u001b[43midx\u001b[49m\u001b[43m)\u001b[49m\n",
      "\u001b[36mFile \u001b[39m\u001b[32md:\\15_Thesis-code\\DNRlib\\src\\GC_Taylor2012_pyomo.py:162\u001b[39m, in \u001b[36mMICP_Pyomo.Constraint_21_SOC\u001b[39m\u001b[34m(self, model, node)\u001b[39m\n\u001b[32m    160\u001b[39m Pout = \u001b[32m0\u001b[39m\n\u001b[32m    161\u001b[39m \u001b[38;5;28;01mfor\u001b[39;00m i \u001b[38;5;129;01min\u001b[39;00m \u001b[38;5;28mself\u001b[39m.BusIN[node]:\n\u001b[32m--> \u001b[39m\u001b[32m162\u001b[39m     Pin += \u001b[38;5;28;43mself\u001b[39;49m\u001b[43m.\u001b[49m\u001b[43mmodel\u001b[49m\u001b[43m.\u001b[49m\u001b[43mP_ij\u001b[49m\u001b[43m[\u001b[49m\u001b[43mi\u001b[49m\u001b[43m,\u001b[49m\u001b[43m \u001b[49m\u001b[43mnode\u001b[49m\u001b[43m]\u001b[49m\n\u001b[32m    163\u001b[39m \u001b[38;5;28;01mfor\u001b[39;00m i \u001b[38;5;129;01min\u001b[39;00m \u001b[38;5;28mself\u001b[39m.BusOUT[node]:\n\u001b[32m    164\u001b[39m     Pout += \u001b[38;5;28mself\u001b[39m.model.P_ij[node, i]\n",
      "\u001b[36mFile \u001b[39m\u001b[32md:\\DNRlib\\Lib\\site-packages\\pyomo\\core\\base\\var.py:1001\u001b[39m, in \u001b[36mIndexedVar.__getitem__\u001b[39m\u001b[34m(self, args)\u001b[39m\n\u001b[32m    999\u001b[39m \u001b[38;5;28;01mdef\u001b[39;00m\u001b[38;5;250m \u001b[39m\u001b[34m__getitem__\u001b[39m(\u001b[38;5;28mself\u001b[39m, args) -> VarData:\n\u001b[32m   1000\u001b[39m     \u001b[38;5;28;01mtry\u001b[39;00m:\n\u001b[32m-> \u001b[39m\u001b[32m1001\u001b[39m         \u001b[38;5;28;01mreturn\u001b[39;00m \u001b[38;5;28;43msuper\u001b[39;49m\u001b[43m(\u001b[49m\u001b[43m)\u001b[49m\u001b[43m.\u001b[49m\u001b[34;43m__getitem__\u001b[39;49m\u001b[43m(\u001b[49m\u001b[43margs\u001b[49m\u001b[43m)\u001b[49m\n\u001b[32m   1002\u001b[39m     \u001b[38;5;28;01mexcept\u001b[39;00m \u001b[38;5;167;01mRuntimeError\u001b[39;00m:\n\u001b[32m   1003\u001b[39m         tmp = args \u001b[38;5;28;01mif\u001b[39;00m args.\u001b[34m__class__\u001b[39m \u001b[38;5;129;01mis\u001b[39;00m \u001b[38;5;28mtuple\u001b[39m \u001b[38;5;28;01melse\u001b[39;00m (args,)\n",
      "\u001b[36mFile \u001b[39m\u001b[32md:\\DNRlib\\Lib\\site-packages\\pyomo\\core\\base\\indexed_component.py:648\u001b[39m, in \u001b[36mIndexedComponent.__getitem__\u001b[39m\u001b[34m(self, index)\u001b[39m\n\u001b[32m    646\u001b[39m \u001b[38;5;28;01mif\u001b[39;00m \u001b[38;5;28misinstance\u001b[39m(index, EXPR.GetItemExpression):\n\u001b[32m    647\u001b[39m     \u001b[38;5;28;01mreturn\u001b[39;00m index\n\u001b[32m--> \u001b[39m\u001b[32m648\u001b[39m validated_index = \u001b[38;5;28;43mself\u001b[39;49m\u001b[43m.\u001b[49m\u001b[43m_validate_index\u001b[49m\u001b[43m(\u001b[49m\u001b[43mindex\u001b[49m\u001b[43m)\u001b[49m\n\u001b[32m    649\u001b[39m \u001b[38;5;28;01mif\u001b[39;00m validated_index \u001b[38;5;129;01mis\u001b[39;00m \u001b[38;5;129;01mnot\u001b[39;00m index:\n\u001b[32m    650\u001b[39m     index = validated_index\n",
      "\u001b[36mFile \u001b[39m\u001b[32md:\\DNRlib\\Lib\\site-packages\\pyomo\\core\\base\\indexed_component.py:870\u001b[39m, in \u001b[36mIndexedComponent._validate_index\u001b[39m\u001b[34m(self, idx)\u001b[39m\n\u001b[32m    863\u001b[39m     \u001b[38;5;28;01mraise\u001b[39;00m \u001b[38;5;167;01mKeyError\u001b[39;00m(\n\u001b[32m    864\u001b[39m         \u001b[33m\"\u001b[39m\u001b[33mCannot treat the scalar component \u001b[39m\u001b[33m'\u001b[39m\u001b[38;5;132;01m%s\u001b[39;00m\u001b[33m'\u001b[39m\u001b[33m \u001b[39m\u001b[33m\"\u001b[39m\n\u001b[32m    865\u001b[39m         \u001b[33m\"\u001b[39m\u001b[33mas an indexed component\u001b[39m\u001b[33m\"\u001b[39m % (\u001b[38;5;28mself\u001b[39m.name,)\n\u001b[32m    866\u001b[39m     )\n\u001b[32m    867\u001b[39m \u001b[38;5;66;03m#\u001b[39;00m\n\u001b[32m    868\u001b[39m \u001b[38;5;66;03m# Raise an exception\u001b[39;00m\n\u001b[32m    869\u001b[39m \u001b[38;5;66;03m#\u001b[39;00m\n\u001b[32m--> \u001b[39m\u001b[32m870\u001b[39m \u001b[38;5;28;01mraise\u001b[39;00m \u001b[38;5;167;01mKeyError\u001b[39;00m(\n\u001b[32m    871\u001b[39m     \u001b[33m\"\u001b[39m\u001b[33mIndex \u001b[39m\u001b[33m'\u001b[39m\u001b[38;5;132;01m%s\u001b[39;00m\u001b[33m'\u001b[39m\u001b[33m is not valid for indexed component \u001b[39m\u001b[33m'\u001b[39m\u001b[38;5;132;01m%s\u001b[39;00m\u001b[33m'\u001b[39m\u001b[33m\"\u001b[39m\n\u001b[32m    872\u001b[39m     % (normalized_idx, \u001b[38;5;28mself\u001b[39m.name)\n\u001b[32m    873\u001b[39m )\n",
      "\u001b[31mKeyError\u001b[39m: \"Index '('2', '1')' is not valid for indexed component 'P_ij'\""
     ]
    }
   ],
   "source": [
    "## implementation of Taylor Mathematical Programming method is not working properly and needs to be completely revised\n",
    "disabled_lines = dnr33.Solve(method=\"Taylor\", algorithm=\"SOC\", solver=\"ipopt\", bigM=10e6, Imax=10, vmin=0.8, vmax=1.2, TieLines=TieLinesID33)\n",
    "_, loss = GC_utils.GC_PowerFlow(dnr33.grid, config=disabled_lines)\n",
    "radiality = GC_utils.CheckRadialConnectedNetwork(dnr33.grid)\n",
    "print(f\"Taylor: The new optimal configuration losses:{loss}, radiality:{radiality}, numPF:{dnr33.NumPF} \") #is {GC_utils.GC_Line_idtag2name_array(gridGC, disabled_lines)}\" )\n",
    "\n",
    "#Taylor method \n",
    "disabled_lines = dnr118.Solve(method=\"Taylor\", algorithm=\"SOC\", solver=\"ipopt\", bigM=10e6, Imax=10, vmin=0.8, vmax=1.2, TieLines=TieLinesID118)\n",
    "_, loss = GC_utils.GC_PowerFlow(dnr118.grid, config=disabled_lines)\n",
    "radiality = GC_utils.CheckRadialConnectedNetwork(dnr118.grid)\n",
    "print(f\"Taylor: The new optimal configuration losses:{loss}, radiality:{radiality}, numPF:{dnr118.NumPF} \") #is {GC_utils.GC_Line_idtag2name_array(gridGC, disabled_lines)}\" )\n"
   ]
  }
 ],
 "metadata": {
  "kernelspec": {
   "display_name": "DNRlib",
   "language": "python",
   "name": "python3"
  },
  "language_info": {
   "codemirror_mode": {
    "name": "ipython",
    "version": 3
   },
   "file_extension": ".py",
   "mimetype": "text/x-python",
   "name": "python",
   "nbconvert_exporter": "python",
   "pygments_lexer": "ipython3",
   "version": "3.13.0"
  }
 },
 "nbformat": 4,
 "nbformat_minor": 2
}
